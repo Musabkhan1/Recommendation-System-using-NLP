{
  "nbformat": 4,
  "nbformat_minor": 0,
  "metadata": {
    "colab": {
      "name": "movie recommendation.ipynb",
      "version": "0.3.2",
      "provenance": [],
      "collapsed_sections": [],
      "machine_shape": "hm"
    },
    "kernelspec": {
      "name": "python3",
      "display_name": "Python 3"
    }
  },
  "cells": [
    {
      "cell_type": "code",
      "metadata": {
        "id": "qZsLxej6yQTK",
        "colab_type": "code",
        "colab": {}
      },
      "source": [
        "from google.colab import drive\n",
        "import re\n",
        "import pandas as pd \n",
        "import numpy as np \n",
        "import matplotlib.pyplot as plt \n",
        "import seaborn as sns\n",
        "import string\n",
        "import nltk\n",
        "import warnings\n",
        "from ast import literal_eval\n",
        "import ast\n",
        "warnings.filterwarnings('ignore')\n",
        "%matplotlib inline\n",
        "\n",
        "\n",
        "warnings.filterwarnings(\"ignore\", category=DeprecationWarning)\n",
        "pd.set_option('max_colwidth', 40)\n",
        "%matplotlib inline"
      ],
      "execution_count": 0,
      "outputs": []
    },
    {
      "cell_type": "code",
      "metadata": {
        "id": "ZdNPXTju9NR2",
        "colab_type": "code",
        "colab": {}
      },
      "source": [
        "import os\n",
        "import pickle\n",
        "import json\n",
        "import numpy as np\n",
        "import pandas as pd\n",
        "import matplotlib.pyplot as plt\n",
        "import seaborn as sns\n",
        "import wordcloud as wc\n",
        "import scipy.sparse as sparse\n",
        "import xgboost as xgb\n",
        "import sklearn\n",
        "\n",
        "from xgboost import XGBRegressor\n",
        "from sklearn.base import BaseEstimator,TransformerMixin\n",
        "from sklearn.impute import SimpleImputer\n",
        "from sklearn.model_selection import KFold,train_test_split\n",
        "from sklearn.feature_extraction import DictVectorizer\n",
        "from sklearn.compose import ColumnTransformer\n",
        "from sklearn.pipeline import Pipeline\n",
        "from sklearn.preprocessing import OneHotEncoder\n",
        "\n",
        "os.environ[\"KMP_DUPLICATE_LIB_OK\"]=\"TRUE\"\n",
        "saving=False\n"
      ],
      "execution_count": 0,
      "outputs": []
    },
    {
      "cell_type": "code",
      "metadata": {
        "id": "esN0KF8VyV_2",
        "colab_type": "code",
        "outputId": "7e22421d-1935-4e69-e2ca-085f3c04bb21",
        "colab": {
          "base_uri": "https://localhost:8080/",
          "height": 124
        }
      },
      "source": [
        "drive.mount('/content/drive')\n",
        "\n"
      ],
      "execution_count": 13,
      "outputs": [
        {
          "output_type": "stream",
          "text": [
            "Go to this URL in a browser: https://accounts.google.com/o/oauth2/auth?client_id=947318989803-6bn6qk8qdgf4n4g3pfee6491hc0brc4i.apps.googleusercontent.com&redirect_uri=urn%3Aietf%3Awg%3Aoauth%3A2.0%3Aoob&scope=email%20https%3A%2F%2Fwww.googleapis.com%2Fauth%2Fdocs.test%20https%3A%2F%2Fwww.googleapis.com%2Fauth%2Fdrive%20https%3A%2F%2Fwww.googleapis.com%2Fauth%2Fdrive.photos.readonly%20https%3A%2F%2Fwww.googleapis.com%2Fauth%2Fpeopleapi.readonly&response_type=code\n",
            "\n",
            "Enter your authorization code:\n",
            "··········\n",
            "Mounted at /content/drive\n"
          ],
          "name": "stdout"
        }
      ]
    },
    {
      "cell_type": "code",
      "metadata": {
        "id": "RMSCnHL0yZo1",
        "colab_type": "code",
        "colab": {}
      },
      "source": [
        "fp1 = '/content/drive/My Drive/movies/credits.csv'\n",
        "\n",
        "fp2 = '/content/drive/My Drive/movies/keywords.csv'\n",
        "\n",
        "fp3 = '/content/drive/My Drive/movies/links_small.csv'\n",
        "\n",
        "fp4 = '/content/drive/My Drive/movies/links.csv'\n",
        "\n",
        "fp5 = '/content/drive/My Drive/movies/movies_metadata.csv'\n",
        "\n",
        "fp6 = '/content/drive/My Drive/movies/ratings_small.csv'\n",
        "\n",
        "fp7 = '/content/drive/My Drive/movies/ratings.csv'\n",
        "\n"
      ],
      "execution_count": 0,
      "outputs": []
    },
    {
      "cell_type": "code",
      "metadata": {
        "id": "kzRowqqiy9HC",
        "colab_type": "code",
        "colab": {}
      },
      "source": [
        "credits = pd.read_csv(fp1)\n",
        "keyword = pd.read_csv(fp2)\n",
        "linksmall = pd.read_csv(fp3)\n",
        "link = pd.read_csv(fp4)\n",
        "metadata = pd.read_csv(fp5) \n",
        "ratingsmall = pd.read_csv(fp6)\n",
        "ratings = pd.read_csv(fp7)\n"
      ],
      "execution_count": 0,
      "outputs": []
    },
    {
      "cell_type": "code",
      "metadata": {
        "id": "xMgT_heV3GgH",
        "colab_type": "code",
        "outputId": "6dcb5b77-4a1e-4592-bfb4-ff3c73f88ac0",
        "colab": {
          "base_uri": "https://localhost:8080/",
          "height": 591
        }
      },
      "source": [
        "metadata.head()"
      ],
      "execution_count": 17,
      "outputs": [
        {
          "output_type": "execute_result",
          "data": {
            "text/html": [
              "<div>\n",
              "<style scoped>\n",
              "    .dataframe tbody tr th:only-of-type {\n",
              "        vertical-align: middle;\n",
              "    }\n",
              "\n",
              "    .dataframe tbody tr th {\n",
              "        vertical-align: top;\n",
              "    }\n",
              "\n",
              "    .dataframe thead th {\n",
              "        text-align: right;\n",
              "    }\n",
              "</style>\n",
              "<table border=\"1\" class=\"dataframe\">\n",
              "  <thead>\n",
              "    <tr style=\"text-align: right;\">\n",
              "      <th></th>\n",
              "      <th>adult</th>\n",
              "      <th>belongs_to_collection</th>\n",
              "      <th>budget</th>\n",
              "      <th>genres</th>\n",
              "      <th>homepage</th>\n",
              "      <th>id</th>\n",
              "      <th>imdb_id</th>\n",
              "      <th>original_language</th>\n",
              "      <th>original_title</th>\n",
              "      <th>overview</th>\n",
              "      <th>popularity</th>\n",
              "      <th>poster_path</th>\n",
              "      <th>production_companies</th>\n",
              "      <th>production_countries</th>\n",
              "      <th>release_date</th>\n",
              "      <th>revenue</th>\n",
              "      <th>runtime</th>\n",
              "      <th>spoken_languages</th>\n",
              "      <th>status</th>\n",
              "      <th>tagline</th>\n",
              "      <th>title</th>\n",
              "      <th>video</th>\n",
              "      <th>vote_average</th>\n",
              "      <th>vote_count</th>\n",
              "    </tr>\n",
              "  </thead>\n",
              "  <tbody>\n",
              "    <tr>\n",
              "      <th>0</th>\n",
              "      <td>False</td>\n",
              "      <td>{'id': 10194, 'name': 'Toy Story Col...</td>\n",
              "      <td>30000000</td>\n",
              "      <td>[{'id': 16, 'name': 'Animation'}, {'...</td>\n",
              "      <td>http://toystory.disney.com/toy-story</td>\n",
              "      <td>862</td>\n",
              "      <td>tt0114709</td>\n",
              "      <td>en</td>\n",
              "      <td>Toy Story</td>\n",
              "      <td>Led by Woody, Andy's toys live happi...</td>\n",
              "      <td>21.9469</td>\n",
              "      <td>/rhIRbceoE9lR4veEXuwCC2wARtG.jpg</td>\n",
              "      <td>[{'name': 'Pixar Animation Studios',...</td>\n",
              "      <td>[{'iso_3166_1': 'US', 'name': 'Unite...</td>\n",
              "      <td>1995-10-30</td>\n",
              "      <td>373554033.0</td>\n",
              "      <td>81.0</td>\n",
              "      <td>[{'iso_639_1': 'en', 'name': 'Englis...</td>\n",
              "      <td>Released</td>\n",
              "      <td>NaN</td>\n",
              "      <td>Toy Story</td>\n",
              "      <td>False</td>\n",
              "      <td>7.7</td>\n",
              "      <td>5415.0</td>\n",
              "    </tr>\n",
              "    <tr>\n",
              "      <th>1</th>\n",
              "      <td>False</td>\n",
              "      <td>NaN</td>\n",
              "      <td>65000000</td>\n",
              "      <td>[{'id': 12, 'name': 'Adventure'}, {'...</td>\n",
              "      <td>NaN</td>\n",
              "      <td>8844</td>\n",
              "      <td>tt0113497</td>\n",
              "      <td>en</td>\n",
              "      <td>Jumanji</td>\n",
              "      <td>When siblings Judy and Peter discove...</td>\n",
              "      <td>17.0155</td>\n",
              "      <td>/vzmL6fP7aPKNKPRTFnZmiUfciyV.jpg</td>\n",
              "      <td>[{'name': 'TriStar Pictures', 'id': ...</td>\n",
              "      <td>[{'iso_3166_1': 'US', 'name': 'Unite...</td>\n",
              "      <td>1995-12-15</td>\n",
              "      <td>262797249.0</td>\n",
              "      <td>104.0</td>\n",
              "      <td>[{'iso_639_1': 'en', 'name': 'Englis...</td>\n",
              "      <td>Released</td>\n",
              "      <td>Roll the dice and unleash the excite...</td>\n",
              "      <td>Jumanji</td>\n",
              "      <td>False</td>\n",
              "      <td>6.9</td>\n",
              "      <td>2413.0</td>\n",
              "    </tr>\n",
              "    <tr>\n",
              "      <th>2</th>\n",
              "      <td>False</td>\n",
              "      <td>{'id': 119050, 'name': 'Grumpy Old M...</td>\n",
              "      <td>0</td>\n",
              "      <td>[{'id': 10749, 'name': 'Romance'}, {...</td>\n",
              "      <td>NaN</td>\n",
              "      <td>15602</td>\n",
              "      <td>tt0113228</td>\n",
              "      <td>en</td>\n",
              "      <td>Grumpier Old Men</td>\n",
              "      <td>A family wedding reignites the ancie...</td>\n",
              "      <td>11.7129</td>\n",
              "      <td>/6ksm1sjKMFLbO7UY2i6G1ju9SML.jpg</td>\n",
              "      <td>[{'name': 'Warner Bros.', 'id': 6194...</td>\n",
              "      <td>[{'iso_3166_1': 'US', 'name': 'Unite...</td>\n",
              "      <td>1995-12-22</td>\n",
              "      <td>0.0</td>\n",
              "      <td>101.0</td>\n",
              "      <td>[{'iso_639_1': 'en', 'name': 'Englis...</td>\n",
              "      <td>Released</td>\n",
              "      <td>Still Yelling. Still Fighting. Still...</td>\n",
              "      <td>Grumpier Old Men</td>\n",
              "      <td>False</td>\n",
              "      <td>6.5</td>\n",
              "      <td>92.0</td>\n",
              "    </tr>\n",
              "    <tr>\n",
              "      <th>3</th>\n",
              "      <td>False</td>\n",
              "      <td>NaN</td>\n",
              "      <td>16000000</td>\n",
              "      <td>[{'id': 35, 'name': 'Comedy'}, {'id'...</td>\n",
              "      <td>NaN</td>\n",
              "      <td>31357</td>\n",
              "      <td>tt0114885</td>\n",
              "      <td>en</td>\n",
              "      <td>Waiting to Exhale</td>\n",
              "      <td>Cheated on, mistreated and stepped o...</td>\n",
              "      <td>3.85949</td>\n",
              "      <td>/16XOMpEaLWkrcPqSQqhTmeJuqQl.jpg</td>\n",
              "      <td>[{'name': 'Twentieth Century Fox Fil...</td>\n",
              "      <td>[{'iso_3166_1': 'US', 'name': 'Unite...</td>\n",
              "      <td>1995-12-22</td>\n",
              "      <td>81452156.0</td>\n",
              "      <td>127.0</td>\n",
              "      <td>[{'iso_639_1': 'en', 'name': 'Englis...</td>\n",
              "      <td>Released</td>\n",
              "      <td>Friends are the people who let you b...</td>\n",
              "      <td>Waiting to Exhale</td>\n",
              "      <td>False</td>\n",
              "      <td>6.1</td>\n",
              "      <td>34.0</td>\n",
              "    </tr>\n",
              "    <tr>\n",
              "      <th>4</th>\n",
              "      <td>False</td>\n",
              "      <td>{'id': 96871, 'name': 'Father of the...</td>\n",
              "      <td>0</td>\n",
              "      <td>[{'id': 35, 'name': 'Comedy'}]</td>\n",
              "      <td>NaN</td>\n",
              "      <td>11862</td>\n",
              "      <td>tt0113041</td>\n",
              "      <td>en</td>\n",
              "      <td>Father of the Bride Part II</td>\n",
              "      <td>Just when George Banks has recovered...</td>\n",
              "      <td>8.38752</td>\n",
              "      <td>/e64sOI48hQXyru7naBFyssKFxVd.jpg</td>\n",
              "      <td>[{'name': 'Sandollar Productions', '...</td>\n",
              "      <td>[{'iso_3166_1': 'US', 'name': 'Unite...</td>\n",
              "      <td>1995-02-10</td>\n",
              "      <td>76578911.0</td>\n",
              "      <td>106.0</td>\n",
              "      <td>[{'iso_639_1': 'en', 'name': 'Englis...</td>\n",
              "      <td>Released</td>\n",
              "      <td>Just When His World Is Back To Norma...</td>\n",
              "      <td>Father of the Bride Part II</td>\n",
              "      <td>False</td>\n",
              "      <td>5.7</td>\n",
              "      <td>173.0</td>\n",
              "    </tr>\n",
              "  </tbody>\n",
              "</table>\n",
              "</div>"
            ],
            "text/plain": [
              "   adult                    belongs_to_collection  ... vote_average vote_count\n",
              "0  False  {'id': 10194, 'name': 'Toy Story Col...  ...          7.7     5415.0\n",
              "1  False                                      NaN  ...          6.9     2413.0\n",
              "2  False  {'id': 119050, 'name': 'Grumpy Old M...  ...          6.5       92.0\n",
              "3  False                                      NaN  ...          6.1       34.0\n",
              "4  False  {'id': 96871, 'name': 'Father of the...  ...          5.7      173.0\n",
              "\n",
              "[5 rows x 24 columns]"
            ]
          },
          "metadata": {
            "tags": []
          },
          "execution_count": 17
        }
      ]
    },
    {
      "cell_type": "markdown",
      "metadata": {
        "id": "0QcWPzf4g2Dj",
        "colab_type": "text"
      },
      "source": [
        "\n",
        "# helper functions"
      ]
    },
    {
      "cell_type": "code",
      "metadata": {
        "id": "-rQPmrD16pdY",
        "colab_type": "code",
        "colab": {}
      },
      "source": [
        "\n",
        "def group_indices(series,index=\"id\"):\n",
        "    d={}\n",
        "    for i in range(series.size):\n",
        "        l=eval(series.iloc[i])\n",
        "        for x in l:\n",
        "            d.setdefault(x[index],[])\n",
        "            d[x[index]].append(i)\n",
        "    return d\n",
        "\n",
        "def get_groups(series,index=\"name\"):\n",
        "    s=set()\n",
        "    for i in range(series.size):\n",
        "        l=eval(series.iloc[i])\n",
        "        for x in l:s.add(x[index])\n",
        "    return list(s)\n",
        "\n",
        "def multi_count(series,index=\"id\"):\n",
        "    return {k:len(v) for (k,v) in group_indices(series,index).items()}\n",
        "\n",
        "\n",
        "\n",
        "def multi_groupby(df,column,index=\"id\"):\n",
        "    return expand_multi_feature(df,column,index).groupby(column)\n",
        "  \n",
        "  \n",
        "\n",
        "\n"
      ],
      "execution_count": 0,
      "outputs": []
    },
    {
      "cell_type": "markdown",
      "metadata": {
        "id": "RjglFmzLg8tM",
        "colab_type": "text"
      },
      "source": [
        "# WordCloud of the given Genres "
      ]
    },
    {
      "cell_type": "code",
      "metadata": {
        "id": "0W0Rd_ZCg-Z8",
        "colab_type": "code",
        "colab": {}
      },
      "source": [
        "def multi_wordcloud(series,filename):\n",
        "    w=wc.WordCloud(background_color=\"black\",margin=20,width=800,height=600,prefer_horizontal=0.7,max_words=50,scale=2)\n",
        "    count=multi_count(series,\"name\")\n",
        "    w.generate_from_frequencies(count)\n",
        "    if saving:w.to_file(filename)\n",
        "    f, ax = plt.subplots(figsize=(16, 16))\n",
        "    plt.axis('off')\n",
        "    plt.imshow(w)\n",
        "    plt.show()\n"
      ],
      "execution_count": 0,
      "outputs": []
    },
    {
      "cell_type": "code",
      "metadata": {
        "id": "JtX0EL3H9is7",
        "colab_type": "code",
        "outputId": "59c62cd8-356d-4acf-994d-7caf2535ccf4",
        "colab": {
          "base_uri": "https://localhost:8080/",
          "height": 721
        }
      },
      "source": [
        "multi_wordcloud(metadata.genres,filename=\"wordcloud_genres.png\")\n"
      ],
      "execution_count": 20,
      "outputs": [
        {
          "output_type": "display_data",
          "data": {
            "image/png": "[encoded data removed]",
            "text/plain": [
              "<Figure size 1152x1152 with 1 Axes>"
            ]
          },
          "metadata": {
            "tags": []
          }
        }
      ]
    },
    {
      "cell_type": "code",
      "metadata": {
        "id": "Vy7qE19oAS72",
        "colab_type": "code",
        "colab": {}
      },
      "source": [
        "def count_word(df, ref_col, liste):\n",
        "    keyword_count = dict()\n",
        "    for s in liste: keyword_count[s] = 0\n",
        "    for liste_keywords in df[ref_col].str.split('|'):        \n",
        "        if type(liste_keywords) == float and pd.isnull(liste_keywords): continue        \n",
        "        for s in [s for s in liste_keywords if s in liste]: \n",
        "            if pd.notnull(s): keyword_count[s] += 1\n",
        "    #______________________________________________________________________\n",
        "    # convert the dictionary in a list to sort the keywords by frequency\n",
        "    keyword_occurences = []\n",
        "    for k,v in keyword_count.items():\n",
        "        keyword_occurences.append([k,v])\n",
        "    keyword_occurences.sort(key = lambda x:x[1], reverse = True)\n",
        "    return keyword_occurences, keyword_count"
      ],
      "execution_count": 0,
      "outputs": []
    },
    {
      "cell_type": "code",
      "metadata": {
        "id": "MdKu7peL_4dZ",
        "colab_type": "code",
        "colab": {}
      },
      "source": [
        "genre_labels = set()\n",
        "for s in metadata['genres'].str.split('|').values:\n",
        "    genre_labels = genre_labels.union(set(s))\n"
      ],
      "execution_count": 0,
      "outputs": []
    },
    {
      "cell_type": "code",
      "metadata": {
        "id": "5p0-3_0N_q3i",
        "colab_type": "code",
        "outputId": "5956074b-330c-4810-c68e-c3d3628f9d63",
        "colab": {
          "base_uri": "https://localhost:8080/",
          "height": 104
        }
      },
      "source": [
        "keyword_occurences, dum = count_word(metadata, 'genres', genre_labels)\n",
        "keyword_occurences[:5]\n"
      ],
      "execution_count": 23,
      "outputs": [
        {
          "output_type": "execute_result",
          "data": {
            "text/plain": [
              "[[\"[{'id': 18, 'name': 'Drama'}]\", 5000],\n",
              " [\"[{'id': 35, 'name': 'Comedy'}]\", 3621],\n",
              " [\"[{'id': 99, 'name': 'Documentary'}]\", 2723],\n",
              " ['[]', 2442],\n",
              " [\"[{'id': 18, 'name': 'Drama'}, {'id': 10749, 'name': 'Romance'}]\", 1301]]"
            ]
          },
          "metadata": {
            "tags": []
          },
          "execution_count": 23
        }
      ]
    },
    {
      "cell_type": "code",
      "metadata": {
        "id": "DDc_HA6r1kvF",
        "colab_type": "code",
        "outputId": "1eeaacbd-c653-4de3-db55-b24042a3dd68",
        "colab": {
          "base_uri": "https://localhost:8080/",
          "height": 238
        }
      },
      "source": [
        "# Statistical details on Movie id\n",
        "stats = ratings.groupby(['userId','movieId']).agg({'rating': [min, max, 'mean', 'count', 'std','var']}).reset_index()\n",
        "stats.head(5)"
      ],
      "execution_count": 24,
      "outputs": [
        {
          "output_type": "execute_result",
          "data": {
            "text/html": [
              "<div>\n",
              "<style scoped>\n",
              "    .dataframe tbody tr th:only-of-type {\n",
              "        vertical-align: middle;\n",
              "    }\n",
              "\n",
              "    .dataframe tbody tr th {\n",
              "        vertical-align: top;\n",
              "    }\n",
              "\n",
              "    .dataframe thead tr th {\n",
              "        text-align: left;\n",
              "    }\n",
              "</style>\n",
              "<table border=\"1\" class=\"dataframe\">\n",
              "  <thead>\n",
              "    <tr>\n",
              "      <th></th>\n",
              "      <th>userId</th>\n",
              "      <th>movieId</th>\n",
              "      <th colspan=\"6\" halign=\"left\">rating</th>\n",
              "    </tr>\n",
              "    <tr>\n",
              "      <th></th>\n",
              "      <th></th>\n",
              "      <th></th>\n",
              "      <th>min</th>\n",
              "      <th>max</th>\n",
              "      <th>mean</th>\n",
              "      <th>count</th>\n",
              "      <th>std</th>\n",
              "      <th>var</th>\n",
              "    </tr>\n",
              "  </thead>\n",
              "  <tbody>\n",
              "    <tr>\n",
              "      <th>0</th>\n",
              "      <td>1</td>\n",
              "      <td>110</td>\n",
              "      <td>1.0</td>\n",
              "      <td>1.0</td>\n",
              "      <td>1.0</td>\n",
              "      <td>1</td>\n",
              "      <td>NaN</td>\n",
              "      <td>NaN</td>\n",
              "    </tr>\n",
              "    <tr>\n",
              "      <th>1</th>\n",
              "      <td>1</td>\n",
              "      <td>147</td>\n",
              "      <td>4.5</td>\n",
              "      <td>4.5</td>\n",
              "      <td>4.5</td>\n",
              "      <td>1</td>\n",
              "      <td>NaN</td>\n",
              "      <td>NaN</td>\n",
              "    </tr>\n",
              "    <tr>\n",
              "      <th>2</th>\n",
              "      <td>1</td>\n",
              "      <td>858</td>\n",
              "      <td>5.0</td>\n",
              "      <td>5.0</td>\n",
              "      <td>5.0</td>\n",
              "      <td>1</td>\n",
              "      <td>NaN</td>\n",
              "      <td>NaN</td>\n",
              "    </tr>\n",
              "    <tr>\n",
              "      <th>3</th>\n",
              "      <td>1</td>\n",
              "      <td>1221</td>\n",
              "      <td>5.0</td>\n",
              "      <td>5.0</td>\n",
              "      <td>5.0</td>\n",
              "      <td>1</td>\n",
              "      <td>NaN</td>\n",
              "      <td>NaN</td>\n",
              "    </tr>\n",
              "    <tr>\n",
              "      <th>4</th>\n",
              "      <td>1</td>\n",
              "      <td>1246</td>\n",
              "      <td>5.0</td>\n",
              "      <td>5.0</td>\n",
              "      <td>5.0</td>\n",
              "      <td>1</td>\n",
              "      <td>NaN</td>\n",
              "      <td>NaN</td>\n",
              "    </tr>\n",
              "  </tbody>\n",
              "</table>\n",
              "</div>"
            ],
            "text/plain": [
              "  userId movieId rating                        \n",
              "                    min  max mean count std var\n",
              "0      1     110    1.0  1.0  1.0     1 NaN NaN\n",
              "1      1     147    4.5  4.5  4.5     1 NaN NaN\n",
              "2      1     858    5.0  5.0  5.0     1 NaN NaN\n",
              "3      1    1221    5.0  5.0  5.0     1 NaN NaN\n",
              "4      1    1246    5.0  5.0  5.0     1 NaN NaN"
            ]
          },
          "metadata": {
            "tags": []
          },
          "execution_count": 24
        }
      ]
    },
    {
      "cell_type": "code",
      "metadata": {
        "id": "G3eLDnxw1aYE",
        "colab_type": "code",
        "outputId": "ae06b3bc-d305-4bd7-ecac-cfb486065e1b",
        "colab": {
          "base_uri": "https://localhost:8080/",
          "height": 206
        }
      },
      "source": [
        "data = pd.merge(credits, keyword, on='id') \n",
        "data.head() \n"
      ],
      "execution_count": 25,
      "outputs": [
        {
          "output_type": "execute_result",
          "data": {
            "text/html": [
              "<div>\n",
              "<style scoped>\n",
              "    .dataframe tbody tr th:only-of-type {\n",
              "        vertical-align: middle;\n",
              "    }\n",
              "\n",
              "    .dataframe tbody tr th {\n",
              "        vertical-align: top;\n",
              "    }\n",
              "\n",
              "    .dataframe thead th {\n",
              "        text-align: right;\n",
              "    }\n",
              "</style>\n",
              "<table border=\"1\" class=\"dataframe\">\n",
              "  <thead>\n",
              "    <tr style=\"text-align: right;\">\n",
              "      <th></th>\n",
              "      <th>cast</th>\n",
              "      <th>crew</th>\n",
              "      <th>id</th>\n",
              "      <th>keywords</th>\n",
              "    </tr>\n",
              "  </thead>\n",
              "  <tbody>\n",
              "    <tr>\n",
              "      <th>0</th>\n",
              "      <td>[{'cast_id': 14, 'character': 'Woody...</td>\n",
              "      <td>[{'credit_id': '52fe4284c3a36847f802...</td>\n",
              "      <td>862</td>\n",
              "      <td>[{'id': 931, 'name': 'jealousy'}, {'...</td>\n",
              "    </tr>\n",
              "    <tr>\n",
              "      <th>1</th>\n",
              "      <td>[{'cast_id': 1, 'character': 'Alan P...</td>\n",
              "      <td>[{'credit_id': '52fe44bfc3a36847f80a...</td>\n",
              "      <td>8844</td>\n",
              "      <td>[{'id': 10090, 'name': 'board game'}...</td>\n",
              "    </tr>\n",
              "    <tr>\n",
              "      <th>2</th>\n",
              "      <td>[{'cast_id': 2, 'character': 'Max Go...</td>\n",
              "      <td>[{'credit_id': '52fe466a9251416c7507...</td>\n",
              "      <td>15602</td>\n",
              "      <td>[{'id': 1495, 'name': 'fishing'}, {'...</td>\n",
              "    </tr>\n",
              "    <tr>\n",
              "      <th>3</th>\n",
              "      <td>[{'cast_id': 1, 'character': \"Savann...</td>\n",
              "      <td>[{'credit_id': '52fe44779251416c9101...</td>\n",
              "      <td>31357</td>\n",
              "      <td>[{'id': 818, 'name': 'based on novel...</td>\n",
              "    </tr>\n",
              "    <tr>\n",
              "      <th>4</th>\n",
              "      <td>[{'cast_id': 1, 'character': 'George...</td>\n",
              "      <td>[{'credit_id': '52fe44959251416c7503...</td>\n",
              "      <td>11862</td>\n",
              "      <td>[{'id': 1009, 'name': 'baby'}, {'id'...</td>\n",
              "    </tr>\n",
              "  </tbody>\n",
              "</table>\n",
              "</div>"
            ],
            "text/plain": [
              "                                      cast  ...                                 keywords\n",
              "0  [{'cast_id': 14, 'character': 'Woody...  ...  [{'id': 931, 'name': 'jealousy'}, {'...\n",
              "1  [{'cast_id': 1, 'character': 'Alan P...  ...  [{'id': 10090, 'name': 'board game'}...\n",
              "2  [{'cast_id': 2, 'character': 'Max Go...  ...  [{'id': 1495, 'name': 'fishing'}, {'...\n",
              "3  [{'cast_id': 1, 'character': \"Savann...  ...  [{'id': 818, 'name': 'based on novel...\n",
              "4  [{'cast_id': 1, 'character': 'George...  ...  [{'id': 1009, 'name': 'baby'}, {'id'...\n",
              "\n",
              "[5 rows x 4 columns]"
            ]
          },
          "metadata": {
            "tags": []
          },
          "execution_count": 25
        }
      ]
    },
    {
      "cell_type": "markdown",
      "metadata": {
        "id": "ahX4_p7hIc-6",
        "colab_type": "text"
      },
      "source": [
        "# Data Cleaning: Handling Missing Data\n"
      ]
    },
    {
      "cell_type": "code",
      "metadata": {
        "id": "PTnv6CyqzdoT",
        "colab_type": "code",
        "outputId": "50eb7aa5-70f0-4ac8-9cd7-bca99d92e41b",
        "colab": {
          "base_uri": "https://localhost:8080/",
          "height": 1000
        }
      },
      "source": [
        "metadata.info()\n",
        "\n",
        "metadata[metadata['title'].isnull()]"
      ],
      "execution_count": 26,
      "outputs": [
        {
          "output_type": "stream",
          "text": [
            "<class 'pandas.core.frame.DataFrame'>\n",
            "RangeIndex: 45466 entries, 0 to 45465\n",
            "Data columns (total 24 columns):\n",
            "adult                    45466 non-null object\n",
            "belongs_to_collection    4494 non-null object\n",
            "budget                   45466 non-null object\n",
            "genres                   45466 non-null object\n",
            "homepage                 7782 non-null object\n",
            "id                       45466 non-null object\n",
            "imdb_id                  45449 non-null object\n",
            "original_language        45455 non-null object\n",
            "original_title           45466 non-null object\n",
            "overview                 44512 non-null object\n",
            "popularity               45461 non-null object\n",
            "poster_path              45080 non-null object\n",
            "production_companies     45463 non-null object\n",
            "production_countries     45463 non-null object\n",
            "release_date             45379 non-null object\n",
            "revenue                  45460 non-null float64\n",
            "runtime                  45203 non-null float64\n",
            "spoken_languages         45460 non-null object\n",
            "status                   45379 non-null object\n",
            "tagline                  20412 non-null object\n",
            "title                    45460 non-null object\n",
            "video                    45460 non-null object\n",
            "vote_average             45460 non-null float64\n",
            "vote_count               45460 non-null float64\n",
            "dtypes: float64(4), object(20)\n",
            "memory usage: 8.3+ MB\n"
          ],
          "name": "stdout"
        },
        {
          "output_type": "execute_result",
          "data": {
            "text/html": [
              "<div>\n",
              "<style scoped>\n",
              "    .dataframe tbody tr th:only-of-type {\n",
              "        vertical-align: middle;\n",
              "    }\n",
              "\n",
              "    .dataframe tbody tr th {\n",
              "        vertical-align: top;\n",
              "    }\n",
              "\n",
              "    .dataframe thead th {\n",
              "        text-align: right;\n",
              "    }\n",
              "</style>\n",
              "<table border=\"1\" class=\"dataframe\">\n",
              "  <thead>\n",
              "    <tr style=\"text-align: right;\">\n",
              "      <th></th>\n",
              "      <th>adult</th>\n",
              "      <th>belongs_to_collection</th>\n",
              "      <th>budget</th>\n",
              "      <th>genres</th>\n",
              "      <th>homepage</th>\n",
              "      <th>id</th>\n",
              "      <th>imdb_id</th>\n",
              "      <th>original_language</th>\n",
              "      <th>original_title</th>\n",
              "      <th>overview</th>\n",
              "      <th>popularity</th>\n",
              "      <th>poster_path</th>\n",
              "      <th>production_companies</th>\n",
              "      <th>production_countries</th>\n",
              "      <th>release_date</th>\n",
              "      <th>revenue</th>\n",
              "      <th>runtime</th>\n",
              "      <th>spoken_languages</th>\n",
              "      <th>status</th>\n",
              "      <th>tagline</th>\n",
              "      <th>title</th>\n",
              "      <th>video</th>\n",
              "      <th>vote_average</th>\n",
              "      <th>vote_count</th>\n",
              "    </tr>\n",
              "  </thead>\n",
              "  <tbody>\n",
              "    <tr>\n",
              "      <th>19729</th>\n",
              "      <td>False</td>\n",
              "      <td>NaN</td>\n",
              "      <td>0</td>\n",
              "      <td>[{'id': 28, 'name': 'Action'}, {'id'...</td>\n",
              "      <td>NaN</td>\n",
              "      <td>82663</td>\n",
              "      <td>tt0113002</td>\n",
              "      <td>en</td>\n",
              "      <td>Midnight Man</td>\n",
              "      <td>British soldiers force a recently ca...</td>\n",
              "      <td>NaN</td>\n",
              "      <td>NaN</td>\n",
              "      <td>NaN</td>\n",
              "      <td>NaN</td>\n",
              "      <td>NaN</td>\n",
              "      <td>NaN</td>\n",
              "      <td>NaN</td>\n",
              "      <td>NaN</td>\n",
              "      <td>NaN</td>\n",
              "      <td>NaN</td>\n",
              "      <td>NaN</td>\n",
              "      <td>NaN</td>\n",
              "      <td>NaN</td>\n",
              "      <td>NaN</td>\n",
              "    </tr>\n",
              "    <tr>\n",
              "      <th>19730</th>\n",
              "      <td>- Written by Ørnås</td>\n",
              "      <td>0.065736</td>\n",
              "      <td>/ff9qCepilowshEtG2GYWwzt2bs4.jpg</td>\n",
              "      <td>[{'name': 'Carousel Productions', 'i...</td>\n",
              "      <td>[{'iso_3166_1': 'CA', 'name': 'Canad...</td>\n",
              "      <td>1997-08-20</td>\n",
              "      <td>0</td>\n",
              "      <td>104.0</td>\n",
              "      <td>[{'iso_639_1': 'en', 'name': 'Englis...</td>\n",
              "      <td>Released</td>\n",
              "      <td>NaN</td>\n",
              "      <td>Midnight Man</td>\n",
              "      <td>False</td>\n",
              "      <td>6.0</td>\n",
              "      <td>1</td>\n",
              "      <td>NaN</td>\n",
              "      <td>NaN</td>\n",
              "      <td>NaN</td>\n",
              "      <td>NaN</td>\n",
              "      <td>NaN</td>\n",
              "      <td>NaN</td>\n",
              "      <td>NaN</td>\n",
              "      <td>NaN</td>\n",
              "      <td>NaN</td>\n",
              "    </tr>\n",
              "    <tr>\n",
              "      <th>29502</th>\n",
              "      <td>False</td>\n",
              "      <td>{'id': 122661, 'name': 'Mardock Scra...</td>\n",
              "      <td>0</td>\n",
              "      <td>[{'id': 16, 'name': 'Animation'}, {'...</td>\n",
              "      <td>http://m-scramble.jp/exhaust/</td>\n",
              "      <td>122662</td>\n",
              "      <td>tt2423504</td>\n",
              "      <td>ja</td>\n",
              "      <td>マルドゥック・スクランブル 排気</td>\n",
              "      <td>Third film of the Mardock Scramble s...</td>\n",
              "      <td>NaN</td>\n",
              "      <td>NaN</td>\n",
              "      <td>NaN</td>\n",
              "      <td>NaN</td>\n",
              "      <td>NaN</td>\n",
              "      <td>NaN</td>\n",
              "      <td>NaN</td>\n",
              "      <td>NaN</td>\n",
              "      <td>NaN</td>\n",
              "      <td>NaN</td>\n",
              "      <td>NaN</td>\n",
              "      <td>NaN</td>\n",
              "      <td>NaN</td>\n",
              "      <td>NaN</td>\n",
              "    </tr>\n",
              "    <tr>\n",
              "      <th>29503</th>\n",
              "      <td>Rune Balot goes to a casino connect...</td>\n",
              "      <td>1.931659</td>\n",
              "      <td>/zV8bHuSL6WXoD6FWogP9j4x80bL.jpg</td>\n",
              "      <td>[{'name': 'Aniplex', 'id': 2883}, {'...</td>\n",
              "      <td>[{'iso_3166_1': 'US', 'name': 'Unite...</td>\n",
              "      <td>2012-09-29</td>\n",
              "      <td>0</td>\n",
              "      <td>68.0</td>\n",
              "      <td>[{'iso_639_1': 'ja', 'name': '日本語'}]</td>\n",
              "      <td>Released</td>\n",
              "      <td>NaN</td>\n",
              "      <td>Mardock Scramble: The Third Exhaust</td>\n",
              "      <td>False</td>\n",
              "      <td>7.0</td>\n",
              "      <td>12</td>\n",
              "      <td>NaN</td>\n",
              "      <td>NaN</td>\n",
              "      <td>NaN</td>\n",
              "      <td>NaN</td>\n",
              "      <td>NaN</td>\n",
              "      <td>NaN</td>\n",
              "      <td>NaN</td>\n",
              "      <td>NaN</td>\n",
              "      <td>NaN</td>\n",
              "    </tr>\n",
              "    <tr>\n",
              "      <th>35586</th>\n",
              "      <td>False</td>\n",
              "      <td>NaN</td>\n",
              "      <td>0</td>\n",
              "      <td>[{'id': 10770, 'name': 'TV Movie'}, ...</td>\n",
              "      <td>NaN</td>\n",
              "      <td>249260</td>\n",
              "      <td>tt2622826</td>\n",
              "      <td>en</td>\n",
              "      <td>Avalanche Sharks</td>\n",
              "      <td>A group of skiers are terrorized dur...</td>\n",
              "      <td>NaN</td>\n",
              "      <td>NaN</td>\n",
              "      <td>NaN</td>\n",
              "      <td>NaN</td>\n",
              "      <td>NaN</td>\n",
              "      <td>NaN</td>\n",
              "      <td>NaN</td>\n",
              "      <td>NaN</td>\n",
              "      <td>NaN</td>\n",
              "      <td>NaN</td>\n",
              "      <td>NaN</td>\n",
              "      <td>NaN</td>\n",
              "      <td>NaN</td>\n",
              "      <td>NaN</td>\n",
              "    </tr>\n",
              "    <tr>\n",
              "      <th>35587</th>\n",
              "      <td>Avalanche Sharks tells the story of...</td>\n",
              "      <td>2.185485</td>\n",
              "      <td>/zaSf5OG7V8X8gqFvly88zDdRm46.jpg</td>\n",
              "      <td>[{'name': 'Odyssey Media', 'id': 171...</td>\n",
              "      <td>[{'iso_3166_1': 'CA', 'name': 'Canad...</td>\n",
              "      <td>2014-01-01</td>\n",
              "      <td>0</td>\n",
              "      <td>82.0</td>\n",
              "      <td>[{'iso_639_1': 'en', 'name': 'Englis...</td>\n",
              "      <td>Released</td>\n",
              "      <td>Beware Of Frost Bites</td>\n",
              "      <td>Avalanche Sharks</td>\n",
              "      <td>False</td>\n",
              "      <td>4.3</td>\n",
              "      <td>22</td>\n",
              "      <td>NaN</td>\n",
              "      <td>NaN</td>\n",
              "      <td>NaN</td>\n",
              "      <td>NaN</td>\n",
              "      <td>NaN</td>\n",
              "      <td>NaN</td>\n",
              "      <td>NaN</td>\n",
              "      <td>NaN</td>\n",
              "      <td>NaN</td>\n",
              "    </tr>\n",
              "  </tbody>\n",
              "</table>\n",
              "</div>"
            ],
            "text/plain": [
              "                                         adult  ... vote_count\n",
              "19729                                    False  ...        NaN\n",
              "19730                       - Written by Ørnås  ...        NaN\n",
              "29502                                    False  ...        NaN\n",
              "29503   Rune Balot goes to a casino connect...  ...        NaN\n",
              "35586                                    False  ...        NaN\n",
              "35587   Avalanche Sharks tells the story of...  ...        NaN\n",
              "\n",
              "[6 rows x 24 columns]"
            ]
          },
          "metadata": {
            "tags": []
          },
          "execution_count": 26
        }
      ]
    },
    {
      "cell_type": "markdown",
      "metadata": {
        "id": "D9mTJGfHIWV8",
        "colab_type": "text"
      },
      "source": [
        "# Remove null titles from original titles"
      ]
    },
    {
      "cell_type": "code",
      "metadata": {
        "id": "IfDPtVru1Qx-",
        "colab_type": "code",
        "outputId": "6993151e-95d0-49af-d6bc-cbc0aae31597",
        "colab": {
          "base_uri": "https://localhost:8080/",
          "height": 521
        }
      },
      "source": [
        "metadata = metadata[pd.notnull(metadata['title'])]\n",
        "\n",
        "metadata.info()"
      ],
      "execution_count": 27,
      "outputs": [
        {
          "output_type": "stream",
          "text": [
            "<class 'pandas.core.frame.DataFrame'>\n",
            "Int64Index: 45460 entries, 0 to 45465\n",
            "Data columns (total 24 columns):\n",
            "adult                    45460 non-null object\n",
            "belongs_to_collection    4490 non-null object\n",
            "budget                   45460 non-null object\n",
            "genres                   45460 non-null object\n",
            "homepage                 7778 non-null object\n",
            "id                       45460 non-null object\n",
            "imdb_id                  45443 non-null object\n",
            "original_language        45449 non-null object\n",
            "original_title           45460 non-null object\n",
            "overview                 44506 non-null object\n",
            "popularity               45460 non-null object\n",
            "poster_path              45077 non-null object\n",
            "production_companies     45460 non-null object\n",
            "production_countries     45460 non-null object\n",
            "release_date             45376 non-null object\n",
            "revenue                  45460 non-null float64\n",
            "runtime                  45203 non-null float64\n",
            "spoken_languages         45460 non-null object\n",
            "status                   45379 non-null object\n",
            "tagline                  20412 non-null object\n",
            "title                    45460 non-null object\n",
            "video                    45460 non-null object\n",
            "vote_average             45460 non-null float64\n",
            "vote_count               45460 non-null float64\n",
            "dtypes: float64(4), object(20)\n",
            "memory usage: 8.7+ MB\n"
          ],
          "name": "stdout"
        }
      ]
    },
    {
      "cell_type": "markdown",
      "metadata": {
        "id": "XTo7yZYjJJFr",
        "colab_type": "text"
      },
      "source": [
        "### Make boolean field"
      ]
    },
    {
      "cell_type": "code",
      "metadata": {
        "id": "og3SYUuWJIcM",
        "colab_type": "code",
        "outputId": "d42f0e45-25db-4232-f96b-ccb879699730",
        "colab": {
          "base_uri": "https://localhost:8080/",
          "height": 69
        }
      },
      "source": [
        "# We try to keep this as a boolean field\n",
        "metadata.loc[(metadata['adult'] != 'True') & (metadata['adult'] != 'False'), 'adult'] = False\n",
        "metadata['adult'] = metadata['adult'].map({'True': True, 'False': False})\n",
        "metadata['adult'].value_counts()\n"
      ],
      "execution_count": 28,
      "outputs": [
        {
          "output_type": "execute_result",
          "data": {
            "text/plain": [
              "False    45451\n",
              "True         9\n",
              "Name: adult, dtype: int64"
            ]
          },
          "metadata": {
            "tags": []
          },
          "execution_count": 28
        }
      ]
    },
    {
      "cell_type": "code",
      "metadata": {
        "id": "fc2lq8M6JGf9",
        "colab_type": "code",
        "outputId": "9ebc8021-9937-4c00-f043-0a3117c53b78",
        "colab": {
          "base_uri": "https://localhost:8080/",
          "height": 34
        }
      },
      "source": [
        "metadata['adult'].unique()"
      ],
      "execution_count": 29,
      "outputs": [
        {
          "output_type": "execute_result",
          "data": {
            "text/plain": [
              "array([False,  True])"
            ]
          },
          "metadata": {
            "tags": []
          },
          "execution_count": 29
        }
      ]
    },
    {
      "cell_type": "markdown",
      "metadata": {
        "id": "R878Jwumhl2v",
        "colab_type": "text"
      },
      "source": [
        " We want to convert belongs to collection to boolean value"
      ]
    },
    {
      "cell_type": "code",
      "metadata": {
        "id": "jV5e0lghJ24L",
        "colab_type": "code",
        "colab": {}
      },
      "source": [
        "\n",
        "metadata['belongs_to_collection'] = metadata['belongs_to_collection'].notna()"
      ],
      "execution_count": 0,
      "outputs": []
    },
    {
      "cell_type": "code",
      "metadata": {
        "id": "RbaI5VErK73j",
        "colab_type": "code",
        "colab": {}
      },
      "source": [
        "\n",
        "# Function to convert string objects using the library literaty_eval \n",
        "\n",
        "def get_values(data_str):\n",
        "    if isinstance(data_str, float):\n",
        "        pass\n",
        "    else:\n",
        "        values = []\n",
        "        data_str = ast.literal_eval(data_str)\n",
        "        if isinstance(data_str, list):\n",
        "            for k_v in data_str:\n",
        "                values.append(k_v['name'])\n",
        "            return values\n",
        "        else:\n",
        "            return None"
      ],
      "execution_count": 0,
      "outputs": []
    },
    {
      "cell_type": "code",
      "metadata": {
        "id": "LhkJGj2XLK7a",
        "colab_type": "code",
        "colab": {
          "base_uri": "https://localhost:8080/",
          "height": 368
        },
        "outputId": "8b762648-05b0-4dc9-e6ab-ac609cc4ea83"
      },
      "source": [
        "# Dictionary to lists\n",
        "metadata[['production_companies', 'production_countries', 'spoken_languages']] = metadata[['production_companies', 'production_countries', 'spoken_languages']].applymap(get_values)"
      ],
      "execution_count": 35,
      "outputs": [
        {
          "output_type": "error",
          "ename": "ValueError",
          "evalue": "ignored",
          "traceback": [
            "\u001b[0;31m---------------------------------------------------------------------------\u001b[0m",
            "\u001b[0;31mValueError\u001b[0m                                Traceback (most recent call last)",
            "\u001b[0;32m<ipython-input-35-8450d8079a67>\u001b[0m in \u001b[0;36m<module>\u001b[0;34m()\u001b[0m\n\u001b[0;32m----> 1\u001b[0;31m \u001b[0mmetadata\u001b[0m\u001b[0;34m[\u001b[0m\u001b[0;34m[\u001b[0m\u001b[0;34m'production_companies'\u001b[0m\u001b[0;34m,\u001b[0m \u001b[0;34m'production_countries'\u001b[0m\u001b[0;34m,\u001b[0m \u001b[0;34m'spoken_languages'\u001b[0m\u001b[0;34m]\u001b[0m\u001b[0;34m]\u001b[0m \u001b[0;34m=\u001b[0m \u001b[0mmetadata\u001b[0m\u001b[0;34m[\u001b[0m\u001b[0;34m[\u001b[0m\u001b[0;34m'production_companies'\u001b[0m\u001b[0;34m,\u001b[0m \u001b[0;34m'production_countries'\u001b[0m\u001b[0;34m,\u001b[0m \u001b[0;34m'spoken_languages'\u001b[0m\u001b[0;34m]\u001b[0m\u001b[0;34m]\u001b[0m\u001b[0;34m.\u001b[0m\u001b[0mapplymap\u001b[0m\u001b[0;34m(\u001b[0m\u001b[0mget_values\u001b[0m\u001b[0;34m)\u001b[0m\u001b[0;34m\u001b[0m\u001b[0;34m\u001b[0m\u001b[0m\n\u001b[0m",
            "\u001b[0;32m/usr/local/lib/python3.6/dist-packages/pandas/core/frame.py\u001b[0m in \u001b[0;36mapplymap\u001b[0;34m(self, func)\u001b[0m\n\u001b[1;32m   6551\u001b[0m             \u001b[0;32mreturn\u001b[0m \u001b[0mlib\u001b[0m\u001b[0;34m.\u001b[0m\u001b[0mmap_infer\u001b[0m\u001b[0;34m(\u001b[0m\u001b[0mx\u001b[0m\u001b[0;34m.\u001b[0m\u001b[0mastype\u001b[0m\u001b[0;34m(\u001b[0m\u001b[0mobject\u001b[0m\u001b[0;34m)\u001b[0m\u001b[0;34m.\u001b[0m\u001b[0mvalues\u001b[0m\u001b[0;34m,\u001b[0m \u001b[0mfunc\u001b[0m\u001b[0;34m)\u001b[0m\u001b[0;34m\u001b[0m\u001b[0;34m\u001b[0m\u001b[0m\n\u001b[1;32m   6552\u001b[0m \u001b[0;34m\u001b[0m\u001b[0m\n\u001b[0;32m-> 6553\u001b[0;31m         \u001b[0;32mreturn\u001b[0m \u001b[0mself\u001b[0m\u001b[0;34m.\u001b[0m\u001b[0mapply\u001b[0m\u001b[0;34m(\u001b[0m\u001b[0minfer\u001b[0m\u001b[0;34m)\u001b[0m\u001b[0;34m\u001b[0m\u001b[0;34m\u001b[0m\u001b[0m\n\u001b[0m\u001b[1;32m   6554\u001b[0m \u001b[0;34m\u001b[0m\u001b[0m\n\u001b[1;32m   6555\u001b[0m     \u001b[0;31m# ----------------------------------------------------------------------\u001b[0m\u001b[0;34m\u001b[0m\u001b[0;34m\u001b[0m\u001b[0;34m\u001b[0m\u001b[0m\n",
            "\u001b[0;32m/usr/local/lib/python3.6/dist-packages/pandas/core/frame.py\u001b[0m in \u001b[0;36mapply\u001b[0;34m(self, func, axis, broadcast, raw, reduce, result_type, args, **kwds)\u001b[0m\n\u001b[1;32m   6485\u001b[0m                          \u001b[0margs\u001b[0m\u001b[0;34m=\u001b[0m\u001b[0margs\u001b[0m\u001b[0;34m,\u001b[0m\u001b[0;34m\u001b[0m\u001b[0;34m\u001b[0m\u001b[0m\n\u001b[1;32m   6486\u001b[0m                          kwds=kwds)\n\u001b[0;32m-> 6487\u001b[0;31m         \u001b[0;32mreturn\u001b[0m \u001b[0mop\u001b[0m\u001b[0;34m.\u001b[0m\u001b[0mget_result\u001b[0m\u001b[0;34m(\u001b[0m\u001b[0;34m)\u001b[0m\u001b[0;34m\u001b[0m\u001b[0;34m\u001b[0m\u001b[0m\n\u001b[0m\u001b[1;32m   6488\u001b[0m \u001b[0;34m\u001b[0m\u001b[0m\n\u001b[1;32m   6489\u001b[0m     \u001b[0;32mdef\u001b[0m \u001b[0mapplymap\u001b[0m\u001b[0;34m(\u001b[0m\u001b[0mself\u001b[0m\u001b[0;34m,\u001b[0m \u001b[0mfunc\u001b[0m\u001b[0;34m)\u001b[0m\u001b[0;34m:\u001b[0m\u001b[0;34m\u001b[0m\u001b[0;34m\u001b[0m\u001b[0m\n",
            "\u001b[0;32m/usr/local/lib/python3.6/dist-packages/pandas/core/apply.py\u001b[0m in \u001b[0;36mget_result\u001b[0;34m(self)\u001b[0m\n\u001b[1;32m    149\u001b[0m             \u001b[0;32mreturn\u001b[0m \u001b[0mself\u001b[0m\u001b[0;34m.\u001b[0m\u001b[0mapply_raw\u001b[0m\u001b[0;34m(\u001b[0m\u001b[0;34m)\u001b[0m\u001b[0;34m\u001b[0m\u001b[0;34m\u001b[0m\u001b[0m\n\u001b[1;32m    150\u001b[0m \u001b[0;34m\u001b[0m\u001b[0m\n\u001b[0;32m--> 151\u001b[0;31m         \u001b[0;32mreturn\u001b[0m \u001b[0mself\u001b[0m\u001b[0;34m.\u001b[0m\u001b[0mapply_standard\u001b[0m\u001b[0;34m(\u001b[0m\u001b[0;34m)\u001b[0m\u001b[0;34m\u001b[0m\u001b[0;34m\u001b[0m\u001b[0m\n\u001b[0m\u001b[1;32m    152\u001b[0m \u001b[0;34m\u001b[0m\u001b[0m\n\u001b[1;32m    153\u001b[0m     \u001b[0;32mdef\u001b[0m \u001b[0mapply_empty_result\u001b[0m\u001b[0;34m(\u001b[0m\u001b[0mself\u001b[0m\u001b[0;34m)\u001b[0m\u001b[0;34m:\u001b[0m\u001b[0;34m\u001b[0m\u001b[0;34m\u001b[0m\u001b[0m\n",
            "\u001b[0;32m/usr/local/lib/python3.6/dist-packages/pandas/core/apply.py\u001b[0m in \u001b[0;36mapply_standard\u001b[0;34m(self)\u001b[0m\n\u001b[1;32m    255\u001b[0m \u001b[0;34m\u001b[0m\u001b[0m\n\u001b[1;32m    256\u001b[0m         \u001b[0;31m# compute the result using the series generator\u001b[0m\u001b[0;34m\u001b[0m\u001b[0;34m\u001b[0m\u001b[0;34m\u001b[0m\u001b[0m\n\u001b[0;32m--> 257\u001b[0;31m         \u001b[0mself\u001b[0m\u001b[0;34m.\u001b[0m\u001b[0mapply_series_generator\u001b[0m\u001b[0;34m(\u001b[0m\u001b[0;34m)\u001b[0m\u001b[0;34m\u001b[0m\u001b[0;34m\u001b[0m\u001b[0m\n\u001b[0m\u001b[1;32m    258\u001b[0m \u001b[0;34m\u001b[0m\u001b[0m\n\u001b[1;32m    259\u001b[0m         \u001b[0;31m# wrap results\u001b[0m\u001b[0;34m\u001b[0m\u001b[0;34m\u001b[0m\u001b[0;34m\u001b[0m\u001b[0m\n",
            "\u001b[0;32m/usr/local/lib/python3.6/dist-packages/pandas/core/apply.py\u001b[0m in \u001b[0;36mapply_series_generator\u001b[0;34m(self)\u001b[0m\n\u001b[1;32m    284\u001b[0m             \u001b[0;32mtry\u001b[0m\u001b[0;34m:\u001b[0m\u001b[0;34m\u001b[0m\u001b[0;34m\u001b[0m\u001b[0m\n\u001b[1;32m    285\u001b[0m                 \u001b[0;32mfor\u001b[0m \u001b[0mi\u001b[0m\u001b[0;34m,\u001b[0m \u001b[0mv\u001b[0m \u001b[0;32min\u001b[0m \u001b[0menumerate\u001b[0m\u001b[0;34m(\u001b[0m\u001b[0mseries_gen\u001b[0m\u001b[0;34m)\u001b[0m\u001b[0;34m:\u001b[0m\u001b[0;34m\u001b[0m\u001b[0;34m\u001b[0m\u001b[0m\n\u001b[0;32m--> 286\u001b[0;31m                     \u001b[0mresults\u001b[0m\u001b[0;34m[\u001b[0m\u001b[0mi\u001b[0m\u001b[0;34m]\u001b[0m \u001b[0;34m=\u001b[0m \u001b[0mself\u001b[0m\u001b[0;34m.\u001b[0m\u001b[0mf\u001b[0m\u001b[0;34m(\u001b[0m\u001b[0mv\u001b[0m\u001b[0;34m)\u001b[0m\u001b[0;34m\u001b[0m\u001b[0;34m\u001b[0m\u001b[0m\n\u001b[0m\u001b[1;32m    287\u001b[0m                     \u001b[0mkeys\u001b[0m\u001b[0;34m.\u001b[0m\u001b[0mappend\u001b[0m\u001b[0;34m(\u001b[0m\u001b[0mv\u001b[0m\u001b[0;34m.\u001b[0m\u001b[0mname\u001b[0m\u001b[0;34m)\u001b[0m\u001b[0;34m\u001b[0m\u001b[0;34m\u001b[0m\u001b[0m\n\u001b[1;32m    288\u001b[0m             \u001b[0;32mexcept\u001b[0m \u001b[0mException\u001b[0m \u001b[0;32mas\u001b[0m \u001b[0me\u001b[0m\u001b[0;34m:\u001b[0m\u001b[0;34m\u001b[0m\u001b[0;34m\u001b[0m\u001b[0m\n",
            "\u001b[0;32m/usr/local/lib/python3.6/dist-packages/pandas/core/frame.py\u001b[0m in \u001b[0;36minfer\u001b[0;34m(x)\u001b[0m\n\u001b[1;32m   6549\u001b[0m             \u001b[0;32mif\u001b[0m \u001b[0mx\u001b[0m\u001b[0;34m.\u001b[0m\u001b[0mempty\u001b[0m\u001b[0;34m:\u001b[0m\u001b[0;34m\u001b[0m\u001b[0;34m\u001b[0m\u001b[0m\n\u001b[1;32m   6550\u001b[0m                 \u001b[0;32mreturn\u001b[0m \u001b[0mlib\u001b[0m\u001b[0;34m.\u001b[0m\u001b[0mmap_infer\u001b[0m\u001b[0;34m(\u001b[0m\u001b[0mx\u001b[0m\u001b[0;34m,\u001b[0m \u001b[0mfunc\u001b[0m\u001b[0;34m)\u001b[0m\u001b[0;34m\u001b[0m\u001b[0;34m\u001b[0m\u001b[0m\n\u001b[0;32m-> 6551\u001b[0;31m             \u001b[0;32mreturn\u001b[0m \u001b[0mlib\u001b[0m\u001b[0;34m.\u001b[0m\u001b[0mmap_infer\u001b[0m\u001b[0;34m(\u001b[0m\u001b[0mx\u001b[0m\u001b[0;34m.\u001b[0m\u001b[0mastype\u001b[0m\u001b[0;34m(\u001b[0m\u001b[0mobject\u001b[0m\u001b[0;34m)\u001b[0m\u001b[0;34m.\u001b[0m\u001b[0mvalues\u001b[0m\u001b[0;34m,\u001b[0m \u001b[0mfunc\u001b[0m\u001b[0;34m)\u001b[0m\u001b[0;34m\u001b[0m\u001b[0;34m\u001b[0m\u001b[0m\n\u001b[0m\u001b[1;32m   6552\u001b[0m \u001b[0;34m\u001b[0m\u001b[0m\n\u001b[1;32m   6553\u001b[0m         \u001b[0;32mreturn\u001b[0m \u001b[0mself\u001b[0m\u001b[0;34m.\u001b[0m\u001b[0mapply\u001b[0m\u001b[0;34m(\u001b[0m\u001b[0minfer\u001b[0m\u001b[0;34m)\u001b[0m\u001b[0;34m\u001b[0m\u001b[0;34m\u001b[0m\u001b[0m\n",
            "\u001b[0;32mpandas/_libs/lib.pyx\u001b[0m in \u001b[0;36mpandas._libs.lib.map_infer\u001b[0;34m()\u001b[0m\n",
            "\u001b[0;32m<ipython-input-34-5380807eb946>\u001b[0m in \u001b[0;36mget_values\u001b[0;34m(data_str)\u001b[0m\n\u001b[1;32m      5\u001b[0m     \u001b[0;32melse\u001b[0m\u001b[0;34m:\u001b[0m\u001b[0;34m\u001b[0m\u001b[0;34m\u001b[0m\u001b[0m\n\u001b[1;32m      6\u001b[0m         \u001b[0mvalues\u001b[0m \u001b[0;34m=\u001b[0m \u001b[0;34m[\u001b[0m\u001b[0;34m]\u001b[0m\u001b[0;34m\u001b[0m\u001b[0;34m\u001b[0m\u001b[0m\n\u001b[0;32m----> 7\u001b[0;31m         \u001b[0mdata_str\u001b[0m \u001b[0;34m=\u001b[0m \u001b[0mast\u001b[0m\u001b[0;34m.\u001b[0m\u001b[0mliteral_eval\u001b[0m\u001b[0;34m(\u001b[0m\u001b[0mdata_str\u001b[0m\u001b[0;34m)\u001b[0m\u001b[0;34m\u001b[0m\u001b[0;34m\u001b[0m\u001b[0m\n\u001b[0m\u001b[1;32m      8\u001b[0m         \u001b[0;32mif\u001b[0m \u001b[0misinstance\u001b[0m\u001b[0;34m(\u001b[0m\u001b[0mdata_str\u001b[0m\u001b[0;34m,\u001b[0m \u001b[0mlist\u001b[0m\u001b[0;34m)\u001b[0m\u001b[0;34m:\u001b[0m\u001b[0;34m\u001b[0m\u001b[0;34m\u001b[0m\u001b[0m\n\u001b[1;32m      9\u001b[0m             \u001b[0;32mfor\u001b[0m \u001b[0mk_v\u001b[0m \u001b[0;32min\u001b[0m \u001b[0mdata_str\u001b[0m\u001b[0;34m:\u001b[0m\u001b[0;34m\u001b[0m\u001b[0;34m\u001b[0m\u001b[0m\n",
            "\u001b[0;32m/usr/lib/python3.6/ast.py\u001b[0m in \u001b[0;36mliteral_eval\u001b[0;34m(node_or_string)\u001b[0m\n\u001b[1;32m     83\u001b[0m                     \u001b[0;32mreturn\u001b[0m \u001b[0mleft\u001b[0m \u001b[0;34m-\u001b[0m \u001b[0mright\u001b[0m\u001b[0;34m\u001b[0m\u001b[0;34m\u001b[0m\u001b[0m\n\u001b[1;32m     84\u001b[0m         \u001b[0;32mraise\u001b[0m \u001b[0mValueError\u001b[0m\u001b[0;34m(\u001b[0m\u001b[0;34m'malformed node or string: '\u001b[0m \u001b[0;34m+\u001b[0m \u001b[0mrepr\u001b[0m\u001b[0;34m(\u001b[0m\u001b[0mnode\u001b[0m\u001b[0;34m)\u001b[0m\u001b[0;34m)\u001b[0m\u001b[0;34m\u001b[0m\u001b[0;34m\u001b[0m\u001b[0m\n\u001b[0;32m---> 85\u001b[0;31m     \u001b[0;32mreturn\u001b[0m \u001b[0m_convert\u001b[0m\u001b[0;34m(\u001b[0m\u001b[0mnode_or_string\u001b[0m\u001b[0;34m)\u001b[0m\u001b[0;34m\u001b[0m\u001b[0;34m\u001b[0m\u001b[0m\n\u001b[0m\u001b[1;32m     86\u001b[0m \u001b[0;34m\u001b[0m\u001b[0m\n\u001b[1;32m     87\u001b[0m \u001b[0;34m\u001b[0m\u001b[0m\n",
            "\u001b[0;32m/usr/lib/python3.6/ast.py\u001b[0m in \u001b[0;36m_convert\u001b[0;34m(node)\u001b[0m\n\u001b[1;32m     82\u001b[0m                 \u001b[0;32melse\u001b[0m\u001b[0;34m:\u001b[0m\u001b[0;34m\u001b[0m\u001b[0;34m\u001b[0m\u001b[0m\n\u001b[1;32m     83\u001b[0m                     \u001b[0;32mreturn\u001b[0m \u001b[0mleft\u001b[0m \u001b[0;34m-\u001b[0m \u001b[0mright\u001b[0m\u001b[0;34m\u001b[0m\u001b[0;34m\u001b[0m\u001b[0m\n\u001b[0;32m---> 84\u001b[0;31m         \u001b[0;32mraise\u001b[0m \u001b[0mValueError\u001b[0m\u001b[0;34m(\u001b[0m\u001b[0;34m'malformed node or string: '\u001b[0m \u001b[0;34m+\u001b[0m \u001b[0mrepr\u001b[0m\u001b[0;34m(\u001b[0m\u001b[0mnode\u001b[0m\u001b[0;34m)\u001b[0m\u001b[0;34m)\u001b[0m\u001b[0;34m\u001b[0m\u001b[0;34m\u001b[0m\u001b[0m\n\u001b[0m\u001b[1;32m     85\u001b[0m     \u001b[0;32mreturn\u001b[0m \u001b[0m_convert\u001b[0m\u001b[0;34m(\u001b[0m\u001b[0mnode_or_string\u001b[0m\u001b[0;34m)\u001b[0m\u001b[0;34m\u001b[0m\u001b[0;34m\u001b[0m\u001b[0m\n\u001b[1;32m     86\u001b[0m \u001b[0;34m\u001b[0m\u001b[0m\n",
            "\u001b[0;31mValueError\u001b[0m: (\"malformed node or string: ['Pixar Animation Studios']\", 'occurred at index production_companies')"
          ]
        }
      ]
    },
    {
      "cell_type": "code",
      "metadata": {
        "id": "o2wIo20pLVVC",
        "colab_type": "code",
        "colab": {}
      },
      "source": [
        "#release_date\n",
        "metadata['release_date'] = pd.to_datetime(metadata['release_date'], format = '%Y-%m-%d', errors='coerce')"
      ],
      "execution_count": 0,
      "outputs": []
    },
    {
      "cell_type": "markdown",
      "metadata": {
        "id": "VgyMKXOjLsLV",
        "colab_type": "text"
      },
      "source": [
        "Budget and Revenue have 0 values instead of NaN\n",
        "Idea is to create a new metric called Profit to consider it as a factor to better understand its relation to movie ratings"
      ]
    },
    {
      "cell_type": "code",
      "metadata": {
        "id": "2bzRyTxoLeN3",
        "colab_type": "code",
        "outputId": "2a0c5fea-1ef4-4fda-9e6c-3a351f78e8cf",
        "colab": {
          "base_uri": "https://localhost:8080/",
          "height": 52
        }
      },
      "source": [
        "display(metadata[metadata['budget'] == '0']['budget'].count(),  # lots of null values\n",
        "        metadata[metadata['revenue'] == 0]['revenue'].count())"
      ],
      "execution_count": 37,
      "outputs": [
        {
          "output_type": "display_data",
          "data": {
            "text/plain": [
              "36570"
            ]
          },
          "metadata": {
            "tags": []
          }
        },
        {
          "output_type": "display_data",
          "data": {
            "text/plain": [
              "38052"
            ]
          },
          "metadata": {
            "tags": []
          }
        }
      ]
    },
    {
      "cell_type": "code",
      "metadata": {
        "id": "L-73m9KPL5IB",
        "colab_type": "code",
        "colab": {}
      },
      "source": [
        "# Converts budget to float datatype\n",
        "metadata['budget'] = pd.to_numeric(metadata['budget'], errors = 'coerce')\n",
        "\n",
        "# replace 0 values with NaN\n",
        "metadata.loc[(metadata['budget'] == 0) & (metadata['revenue'] == 0), 'revenue'] = np.nan\n",
        "metadata.loc[metadata['budget'] == 0, 'budget'] = np.nan"
      ],
      "execution_count": 0,
      "outputs": []
    },
    {
      "cell_type": "code",
      "metadata": {
        "id": "9bqnIRkkVN1U",
        "colab_type": "code",
        "colab": {}
      },
      "source": [
        "metadata['id'] = metadata['id'].astype(int)"
      ],
      "execution_count": 0,
      "outputs": []
    },
    {
      "cell_type": "code",
      "metadata": {
        "id": "wUmm8NXfTfBV",
        "colab_type": "code",
        "colab": {}
      },
      "source": [
        "metadata = metadata.merge(keyword, on='id')"
      ],
      "execution_count": 0,
      "outputs": []
    },
    {
      "cell_type": "code",
      "metadata": {
        "id": "YKRnq4sYVMj6",
        "colab_type": "code",
        "outputId": "066f002e-69d8-439f-8a80-e6be07c7c933",
        "colab": {
          "base_uri": "https://localhost:8080/",
          "height": 139
        }
      },
      "source": [
        "metadata.columns\n"
      ],
      "execution_count": 41,
      "outputs": [
        {
          "output_type": "execute_result",
          "data": {
            "text/plain": [
              "Index(['adult', 'belongs_to_collection', 'budget', 'genres', 'homepage', 'id',\n",
              "       'imdb_id', 'original_language', 'original_title', 'overview',\n",
              "       'popularity', 'poster_path', 'production_companies',\n",
              "       'production_countries', 'release_date', 'revenue', 'runtime',\n",
              "       'spoken_languages', 'status', 'tagline', 'title', 'video',\n",
              "       'vote_average', 'vote_count', 'keywords'],\n",
              "      dtype='object')"
            ]
          },
          "metadata": {
            "tags": []
          },
          "execution_count": 41
        }
      ]
    },
    {
      "cell_type": "markdown",
      "metadata": {
        "id": "60M44PGLh0Ky",
        "colab_type": "text"
      },
      "source": [
        "# Now here comes the  Most important part of the recommendation **system**"
      ]
    },
    {
      "cell_type": "code",
      "metadata": {
        "id": "lCj3dBCiW12D",
        "colab_type": "code",
        "outputId": "bb91b83e-c687-4a91-a906-3ca491d3ca15",
        "colab": {
          "base_uri": "https://localhost:8080/",
          "height": 121
        }
      },
      "source": [
        "metadata['overview'].head()"
      ],
      "execution_count": 42,
      "outputs": [
        {
          "output_type": "execute_result",
          "data": {
            "text/plain": [
              "0    Led by Woody, Andy's toys live happi...\n",
              "1    When siblings Judy and Peter discove...\n",
              "2    A family wedding reignites the ancie...\n",
              "3    Cheated on, mistreated and stepped o...\n",
              "4    Just when George Banks has recovered...\n",
              "Name: overview, dtype: object"
            ]
          },
          "metadata": {
            "tags": []
          },
          "execution_count": 42
        }
      ]
    },
    {
      "cell_type": "markdown",
      "metadata": {
        "id": "ZUhroqVbiACV",
        "colab_type": "text"
      },
      "source": [
        "# #Replace NaN with an empty string"
      ]
    },
    {
      "cell_type": "code",
      "metadata": {
        "id": "vfPuOKqdh_Re",
        "colab_type": "code",
        "colab": {}
      },
      "source": [
        "\n",
        "metadata['overview'] = metadata['overview'].fillna('')\n"
      ],
      "execution_count": 0,
      "outputs": []
    },
    {
      "cell_type": "markdown",
      "metadata": {
        "id": "Q7UtkFGuiFlj",
        "colab_type": "text"
      },
      "source": [
        "# Lets convert it into String to perform all operations"
      ]
    },
    {
      "cell_type": "code",
      "metadata": {
        "id": "AyPenQceRaFC",
        "colab_type": "code",
        "colab": {}
      },
      "source": [
        "metadata['overview']=metadata['overview'].astype(str)"
      ],
      "execution_count": 0,
      "outputs": []
    },
    {
      "cell_type": "code",
      "metadata": {
        "id": "XeLHPs9X6OsE",
        "colab_type": "code",
        "outputId": "8c32eb9a-682c-4e28-ebb6-62001be2f0cc",
        "colab": {
          "base_uri": "https://localhost:8080/",
          "height": 386
        }
      },
      "source": [
        "from wordcloud import WordCloud\n",
        "\n",
        "text = metadata['overview'].to_string()\n",
        "\n",
        "wordcloud = WordCloud(width=1600, height=800,max_font_size=200).generate(text)\n",
        "plt.figure(figsize=(12,10))\n",
        "plt.imshow(wordcloud, interpolation=\"bilinear\")\n",
        "plt.axis(\"off\")\n",
        "plt.show()"
      ],
      "execution_count": 45,
      "outputs": [
        {
          "output_type": "display_data",
          "data": {
            "image/png": "[encoded data removed]",
            "text/plain": [
              "<Figure size 864x720 with 1 Axes>"
            ]
          },
          "metadata": {
            "tags": []
          }
        }
      ]
    },
    {
      "cell_type": "markdown",
      "metadata": {
        "id": "lbPNmzKPKKwW",
        "colab_type": "text"
      },
      "source": [
        "# Removal of Stop Words\n",
        "As we discussed earlier, stop words (or commonly occurring words) should be removed from the text data. For this purpose, we can either create a list of stopwords ourselves or we can use predefined libraries."
      ]
    },
    {
      "cell_type": "code",
      "metadata": {
        "id": "qTThvVm_dLTf",
        "colab_type": "code",
        "outputId": "591f469a-22b6-4a8b-880d-65d02827d839",
        "colab": {
          "base_uri": "https://localhost:8080/",
          "height": 69
        }
      },
      "source": [
        "nltk.download('stopwords')"
      ],
      "execution_count": 46,
      "outputs": [
        {
          "output_type": "stream",
          "text": [
            "[nltk_data] Downloading package stopwords to /root/nltk_data...\n",
            "[nltk_data]   Unzipping corpora/stopwords.zip.\n"
          ],
          "name": "stdout"
        },
        {
          "output_type": "execute_result",
          "data": {
            "text/plain": [
              "True"
            ]
          },
          "metadata": {
            "tags": []
          },
          "execution_count": 46
        }
      ]
    },
    {
      "cell_type": "markdown",
      "metadata": {
        "id": "uIfwSRTGiSMm",
        "colab_type": "text"
      },
      "source": [
        "Count of Stopwords"
      ]
    },
    {
      "cell_type": "code",
      "metadata": {
        "id": "MMUunD566jy0",
        "colab_type": "code",
        "outputId": "a7283943-1144-4b1e-b5a0-c9d378d158a3",
        "colab": {
          "base_uri": "https://localhost:8080/",
          "height": 206
        }
      },
      "source": [
        "from nltk.corpus import stopwords\n",
        "stop = stopwords.words('english')\n",
        "\n",
        "\n",
        "metadata['stopwords'] = metadata['overview'].apply(lambda x: len([x for x in x.split() if x in stop]))\n",
        "metadata[['overview','stopwords']].head()"
      ],
      "execution_count": 47,
      "outputs": [
        {
          "output_type": "execute_result",
          "data": {
            "text/html": [
              "<div>\n",
              "<style scoped>\n",
              "    .dataframe tbody tr th:only-of-type {\n",
              "        vertical-align: middle;\n",
              "    }\n",
              "\n",
              "    .dataframe tbody tr th {\n",
              "        vertical-align: top;\n",
              "    }\n",
              "\n",
              "    .dataframe thead th {\n",
              "        text-align: right;\n",
              "    }\n",
              "</style>\n",
              "<table border=\"1\" class=\"dataframe\">\n",
              "  <thead>\n",
              "    <tr style=\"text-align: right;\">\n",
              "      <th></th>\n",
              "      <th>overview</th>\n",
              "      <th>stopwords</th>\n",
              "    </tr>\n",
              "  </thead>\n",
              "  <tbody>\n",
              "    <tr>\n",
              "      <th>0</th>\n",
              "      <td>Led by Woody, Andy's toys live happi...</td>\n",
              "      <td>16</td>\n",
              "    </tr>\n",
              "    <tr>\n",
              "      <th>1</th>\n",
              "      <td>When siblings Judy and Peter discove...</td>\n",
              "      <td>25</td>\n",
              "    </tr>\n",
              "    <tr>\n",
              "      <th>2</th>\n",
              "      <td>A family wedding reignites the ancie...</td>\n",
              "      <td>20</td>\n",
              "    </tr>\n",
              "    <tr>\n",
              "      <th>3</th>\n",
              "      <td>Cheated on, mistreated and stepped o...</td>\n",
              "      <td>16</td>\n",
              "    </tr>\n",
              "    <tr>\n",
              "      <th>4</th>\n",
              "      <td>Just when George Banks has recovered...</td>\n",
              "      <td>29</td>\n",
              "    </tr>\n",
              "  </tbody>\n",
              "</table>\n",
              "</div>"
            ],
            "text/plain": [
              "                                  overview  stopwords\n",
              "0  Led by Woody, Andy's toys live happi...         16\n",
              "1  When siblings Judy and Peter discove...         25\n",
              "2  A family wedding reignites the ancie...         20\n",
              "3  Cheated on, mistreated and stepped o...         16\n",
              "4  Just when George Banks has recovered...         29"
            ]
          },
          "metadata": {
            "tags": []
          },
          "execution_count": 47
        }
      ]
    },
    {
      "cell_type": "markdown",
      "metadata": {
        "id": "GZzobk-nnKB7",
        "colab_type": "text"
      },
      "source": [
        "we will remove stopwords when we use tfid function which will come ahead but first lets complete preprocessing"
      ]
    },
    {
      "cell_type": "code",
      "metadata": {
        "id": "uktf8DrdXW71",
        "colab_type": "code",
        "colab": {}
      },
      "source": [
        "#Import TfIdfVectorizer from scikit-learn\n",
        "from sklearn.feature_extraction.text import TfidfVectorizer\n",
        "\n",
        "\n",
        "\n"
      ],
      "execution_count": 0,
      "outputs": []
    },
    {
      "cell_type": "markdown",
      "metadata": {
        "id": "TUq78jt3KSIu",
        "colab_type": "text"
      },
      "source": [
        "# Lower case\n",
        "\n",
        "The first pre-processing step which we will do is transform our texts into lower case. This avoids having multiple copies of the same words. For example, while calculating the word count, ‘Sentiment’ and ‘sentiment’ will be taken as different words. **bold text** "
      ]
    },
    {
      "cell_type": "code",
      "metadata": {
        "id": "96p5JfkUJHGp",
        "colab_type": "code",
        "outputId": "72684305-3fa8-4005-a07c-95c9484ef415",
        "colab": {
          "base_uri": "https://localhost:8080/",
          "height": 121
        }
      },
      "source": [
        "metadata['overview'] = metadata['overview'].apply(lambda x: \" \".join(x.lower() for x in x.split()))\n",
        "metadata['overview'].head(5)"
      ],
      "execution_count": 49,
      "outputs": [
        {
          "output_type": "execute_result",
          "data": {
            "text/plain": [
              "0    led by woody, andy's toys live happi...\n",
              "1    when siblings judy and peter discove...\n",
              "2    a family wedding reignites the ancie...\n",
              "3    cheated on, mistreated and stepped o...\n",
              "4    just when george banks has recovered...\n",
              "Name: overview, dtype: object"
            ]
          },
          "metadata": {
            "tags": []
          },
          "execution_count": 49
        }
      ]
    },
    {
      "cell_type": "markdown",
      "metadata": {
        "id": "dT6f1KA9RUXk",
        "colab_type": "text"
      },
      "source": [
        "# Number of numerics\n",
        "**Just like we calculated the number of words, we can also calculate the number of numerics which are present in the overview. It does not have a lot of use in our example, but this is still a useful feature that should be run while doing similar exercises. For example,**"
      ]
    },
    {
      "cell_type": "code",
      "metadata": {
        "id": "G5GVRL_L7FaP",
        "colab_type": "code",
        "outputId": "ec3e58d3-efd0-4251-f60e-cb88fa18b5a1",
        "colab": {
          "base_uri": "https://localhost:8080/",
          "height": 206
        }
      },
      "source": [
        "metadata['numerics'] = metadata['overview'].apply(lambda x: len([x for x in x.split() if x.isdigit()]))\n",
        "metadata[['overview','numerics']].head(5)"
      ],
      "execution_count": 50,
      "outputs": [
        {
          "output_type": "execute_result",
          "data": {
            "text/html": [
              "<div>\n",
              "<style scoped>\n",
              "    .dataframe tbody tr th:only-of-type {\n",
              "        vertical-align: middle;\n",
              "    }\n",
              "\n",
              "    .dataframe tbody tr th {\n",
              "        vertical-align: top;\n",
              "    }\n",
              "\n",
              "    .dataframe thead th {\n",
              "        text-align: right;\n",
              "    }\n",
              "</style>\n",
              "<table border=\"1\" class=\"dataframe\">\n",
              "  <thead>\n",
              "    <tr style=\"text-align: right;\">\n",
              "      <th></th>\n",
              "      <th>overview</th>\n",
              "      <th>numerics</th>\n",
              "    </tr>\n",
              "  </thead>\n",
              "  <tbody>\n",
              "    <tr>\n",
              "      <th>0</th>\n",
              "      <td>led by woody, andy's toys live happi...</td>\n",
              "      <td>0</td>\n",
              "    </tr>\n",
              "    <tr>\n",
              "      <th>1</th>\n",
              "      <td>when siblings judy and peter discove...</td>\n",
              "      <td>1</td>\n",
              "    </tr>\n",
              "    <tr>\n",
              "      <th>2</th>\n",
              "      <td>a family wedding reignites the ancie...</td>\n",
              "      <td>0</td>\n",
              "    </tr>\n",
              "    <tr>\n",
              "      <th>3</th>\n",
              "      <td>cheated on, mistreated and stepped o...</td>\n",
              "      <td>0</td>\n",
              "    </tr>\n",
              "    <tr>\n",
              "      <th>4</th>\n",
              "      <td>just when george banks has recovered...</td>\n",
              "      <td>0</td>\n",
              "    </tr>\n",
              "  </tbody>\n",
              "</table>\n",
              "</div>"
            ],
            "text/plain": [
              "                                  overview  numerics\n",
              "0  led by woody, andy's toys live happi...         0\n",
              "1  when siblings judy and peter discove...         1\n",
              "2  a family wedding reignites the ancie...         0\n",
              "3  cheated on, mistreated and stepped o...         0\n",
              "4  just when george banks has recovered...         0"
            ]
          },
          "metadata": {
            "tags": []
          },
          "execution_count": 50
        }
      ]
    },
    {
      "cell_type": "markdown",
      "metadata": {
        "id": "5cdb65b1HQtc",
        "colab_type": "text"
      },
      "source": [
        "# Removing Punctuation\n",
        "The next step is to remove punctuation, as it doesn’t add any extra information while treating text data. Therefore removing all instances of it will help us reduce the size of the training data."
      ]
    },
    {
      "cell_type": "code",
      "metadata": {
        "id": "a15a_8lxHP8p",
        "colab_type": "code",
        "outputId": "2b1eeb79-c682-4b78-b8b9-544d2b3788cd",
        "colab": {
          "base_uri": "https://localhost:8080/",
          "height": 121
        }
      },
      "source": [
        "metadata['overview'] = metadata['overview'].str.replace('[^\\w\\s]','')\n",
        "metadata['overview'].head()"
      ],
      "execution_count": 51,
      "outputs": [
        {
          "output_type": "execute_result",
          "data": {
            "text/plain": [
              "0    led by woody andys toys live happily...\n",
              "1    when siblings judy and peter discove...\n",
              "2    a family wedding reignites the ancie...\n",
              "3    cheated on mistreated and stepped on...\n",
              "4    just when george banks has recovered...\n",
              "Name: overview, dtype: object"
            ]
          },
          "metadata": {
            "tags": []
          },
          "execution_count": 51
        }
      ]
    },
    {
      "cell_type": "markdown",
      "metadata": {
        "id": "RlgJTWsWKpl5",
        "colab_type": "text"
      },
      "source": [
        "# Common Word Removal"
      ]
    },
    {
      "cell_type": "code",
      "metadata": {
        "id": "b4O83P_lFz47",
        "colab_type": "code",
        "outputId": "0202c8f7-a117-44fc-c913-c00a6fc517a7",
        "colab": {
          "base_uri": "https://localhost:8080/",
          "height": 208
        }
      },
      "source": [
        "freq = pd.Series(' '.join(metadata['overview']).split()).value_counts()[:10]\n",
        "freq"
      ],
      "execution_count": 65,
      "outputs": [
        {
          "output_type": "execute_result",
          "data": {
            "text/plain": [
              "he       20914\n",
              "for      18760\n",
              "on       17851\n",
              "an       17199\n",
              "by       16196\n",
              "that     15767\n",
              "as       15087\n",
              "who      14729\n",
              "their    13479\n",
              "from     12854\n",
              "dtype: int64"
            ]
          },
          "metadata": {
            "tags": []
          },
          "execution_count": 65
        }
      ]
    },
    {
      "cell_type": "code",
      "metadata": {
        "id": "gFUMC4gJMKIf",
        "colab_type": "code",
        "outputId": "0dd4456a-0012-4428-b5a5-d72c671b7d0f",
        "colab": {
          "base_uri": "https://localhost:8080/",
          "height": 121
        }
      },
      "source": [
        "freq \n",
        "metadata['overview'] = metadata['overview'].apply(lambda x: \" \".join(x for x in x.split() if x not in freq))\n",
        "metadata['overview'].head(5)"
      ],
      "execution_count": 66,
      "outputs": [
        {
          "output_type": "execute_result",
          "data": {
            "text/plain": [
              "0    led woody andys toys live happily ro...\n",
              "1    when siblings judy peter discover en...\n",
              "2    family wedding reignites ancient feu...\n",
              "3    cheated mistreated stepped women are...\n",
              "4    just when george banks has recovered...\n",
              "Name: overview, dtype: object"
            ]
          },
          "metadata": {
            "tags": []
          },
          "execution_count": 66
        }
      ]
    },
    {
      "cell_type": "markdown",
      "metadata": {
        "id": "ofcBVPPNMx8S",
        "colab_type": "text"
      },
      "source": [
        "Rare words removal"
      ]
    },
    {
      "cell_type": "code",
      "metadata": {
        "id": "Yjs7UxUqMljT",
        "colab_type": "code",
        "outputId": "c710196a-f706-428c-b378-55eb65b87907",
        "colab": {
          "base_uri": "https://localhost:8080/",
          "height": 208
        }
      },
      "source": [
        "freq1 = pd.Series(' '.join(metadata['overview']).split()).value_counts()[-10:]\n",
        "freq1"
      ],
      "execution_count": 67,
      "outputs": [
        {
          "output_type": "execute_result",
          "data": {
            "text/plain": [
              "exoskeleton    1\n",
              "clincher       1\n",
              "nips           1\n",
              "brownies       1\n",
              "goetze         1\n",
              "φέρνει         1\n",
              "backroads      1\n",
              "lakshmis       1\n",
              "utaemon        1\n",
              "damiaan        1\n",
              "dtype: int64"
            ]
          },
          "metadata": {
            "tags": []
          },
          "execution_count": 67
        }
      ]
    },
    {
      "cell_type": "code",
      "metadata": {
        "id": "frAy-nQLNG2D",
        "colab_type": "code",
        "outputId": "c47521db-0fd7-4a40-8fa5-b29c02ec6152",
        "colab": {
          "base_uri": "https://localhost:8080/",
          "height": 121
        }
      },
      "source": [
        "metadata['overview'] = metadata['overview'].apply(lambda x: \" \".join(x for x in x.split() if x not in freq1))\n",
        "metadata['overview'].head(5)"
      ],
      "execution_count": 74,
      "outputs": [
        {
          "output_type": "execute_result",
          "data": {
            "text/plain": [
              "0    led woody andys toys live happily ro...\n",
              "1    when siblings judy peter discover en...\n",
              "2    family wedding reignites ancient feu...\n",
              "3    cheated mistreated stepped women are...\n",
              "4    just when george banks has recovered...\n",
              "Name: overview, dtype: object"
            ]
          },
          "metadata": {
            "tags": []
          },
          "execution_count": 74
        }
      ]
    },
    {
      "cell_type": "markdown",
      "metadata": {
        "id": "yz_xxlo6NrwO",
        "colab_type": "text"
      },
      "source": [
        "# Spelling correction"
      ]
    },
    {
      "cell_type": "code",
      "metadata": {
        "id": "Y5aUgvrFNcGb",
        "colab_type": "code",
        "outputId": "7fe010d4-1b8f-4f37-a6d4-fc90760654ff",
        "colab": {
          "base_uri": "https://localhost:8080/",
          "height": 121
        }
      },
      "source": [
        "from textblob import TextBlob\n",
        "metadata['overview'][:5].apply(lambda x: str(TextBlob(x).correct()))"
      ],
      "execution_count": 75,
      "outputs": [
        {
          "output_type": "execute_result",
          "data": {
            "text/plain": [
              "0    led wood andy toys live happily room...\n",
              "1    when shillings judy peter discover e...\n",
              "2    family wedding reignites ancient fed...\n",
              "3    created mistreated stepped women are...\n",
              "4    just when george banks has recovered...\n",
              "Name: overview, dtype: object"
            ]
          },
          "metadata": {
            "tags": []
          },
          "execution_count": 75
        }
      ]
    },
    {
      "cell_type": "markdown",
      "metadata": {
        "id": "0IWoSgFxOHKR",
        "colab_type": "text"
      },
      "source": [
        "#Tokenization\n",
        "\n",
        "Tokenization refers to dividing the text into a sequence of words or sentences. In our example, we have used the textblob library to first transform our text into a blob and then converted them into a series of words."
      ]
    },
    {
      "cell_type": "code",
      "metadata": {
        "id": "GIA9RlFtd955",
        "colab_type": "code",
        "outputId": "28fc6972-9114-4407-9b13-0abbfa4817f8",
        "colab": {
          "base_uri": "https://localhost:8080/",
          "height": 69
        }
      },
      "source": [
        "import nltk\n",
        "nltk.download('punkt')"
      ],
      "execution_count": 76,
      "outputs": [
        {
          "output_type": "stream",
          "text": [
            "[nltk_data] Downloading package punkt to /root/nltk_data...\n",
            "[nltk_data]   Package punkt is already up-to-date!\n"
          ],
          "name": "stdout"
        },
        {
          "output_type": "execute_result",
          "data": {
            "text/plain": [
              "True"
            ]
          },
          "metadata": {
            "tags": []
          },
          "execution_count": 76
        }
      ]
    },
    {
      "cell_type": "code",
      "metadata": {
        "id": "ZNyVuwZVOBCR",
        "colab_type": "code",
        "outputId": "8869a6f0-6c31-4873-c6ae-615ca35628bd",
        "colab": {
          "base_uri": "https://localhost:8080/",
          "height": 54
        }
      },
      "source": [
        "TextBlob(metadata['overview'][1]).words"
      ],
      "execution_count": 77,
      "outputs": [
        {
          "output_type": "execute_result",
          "data": {
            "text/plain": [
              "WordList(['when', 'siblings', 'judy', 'peter', 'discover', 'enchanted', 'board', 'game', 'opens', 'door', 'magical', 'world', 'they', 'unwittingly', 'invite', 'alan', 'adult', 'whos', 'been', 'trapped', 'inside', 'game', '26', 'years', 'into', 'living', 'room', 'alans', 'only', 'hope', 'freedom', 'finish', 'game', 'which', 'proves', 'risky', 'all', 'three', 'find', 'themselves', 'running', 'giant', 'rhinoceroses', 'evil', 'monkeys', 'other', 'terrifying', 'creatures'])"
            ]
          },
          "metadata": {
            "tags": []
          },
          "execution_count": 77
        }
      ]
    },
    {
      "cell_type": "code",
      "metadata": {
        "id": "h5zZE7AAPQth",
        "colab_type": "code",
        "outputId": "32a93601-23af-4e0e-9412-f20ccbc77239",
        "colab": {
          "base_uri": "https://localhost:8080/",
          "height": 69
        }
      },
      "source": [
        "import nltk\n",
        "nltk.download('wordnet')"
      ],
      "execution_count": 78,
      "outputs": [
        {
          "output_type": "stream",
          "text": [
            "[nltk_data] Downloading package wordnet to /root/nltk_data...\n",
            "[nltk_data]   Package wordnet is already up-to-date!\n"
          ],
          "name": "stdout"
        },
        {
          "output_type": "execute_result",
          "data": {
            "text/plain": [
              "True"
            ]
          },
          "metadata": {
            "tags": []
          },
          "execution_count": 78
        }
      ]
    },
    {
      "cell_type": "code",
      "metadata": {
        "id": "Ng5GNQfxPe1X",
        "colab_type": "code",
        "outputId": "c4901bc7-bc03-4a2c-9d8e-78ac247ccab9",
        "colab": {
          "base_uri": "https://localhost:8080/",
          "height": 121
        }
      },
      "source": [
        "from textblob import Word\n",
        "metadata['ovrview'] = metadata['overview'].apply(lambda x: \" \".join([Word(word).lemmatize() for word in x.split()]))\n",
        "metadata['overview'].head()"
      ],
      "execution_count": 79,
      "outputs": [
        {
          "output_type": "execute_result",
          "data": {
            "text/plain": [
              "0    led woody andys toys live happily ro...\n",
              "1    when siblings judy peter discover en...\n",
              "2    family wedding reignites ancient feu...\n",
              "3    cheated mistreated stepped women are...\n",
              "4    just when george banks has recovered...\n",
              "Name: overview, dtype: object"
            ]
          },
          "metadata": {
            "tags": []
          },
          "execution_count": 79
        }
      ]
    },
    {
      "cell_type": "markdown",
      "metadata": {
        "id": "LRAwspHsSD-B",
        "colab_type": "text"
      },
      "source": [
        "Removing Punctuations from Keywords"
      ]
    },
    {
      "cell_type": "code",
      "metadata": {
        "id": "VX6mZ7O0QHR_",
        "colab_type": "code",
        "outputId": "fec6406d-d736-4ab7-b9f7-e39adc4b8d23",
        "colab": {
          "base_uri": "https://localhost:8080/",
          "height": 121
        }
      },
      "source": [
        "metadata['keywords'] = metadata['keywords'].str.replace('[^\\w\\s]','')\n",
        "metadata['keywords'].head()"
      ],
      "execution_count": 80,
      "outputs": [
        {
          "output_type": "execute_result",
          "data": {
            "text/plain": [
              "0    id 931 name jealousy id 4290 name to...\n",
              "1    id 10090 name board game id 10941 na...\n",
              "2    id 1495 name fishing id 12392 name b...\n",
              "3    id 818 name based on novel id 10131 ...\n",
              "4    id 1009 name baby id 1599 name midli...\n",
              "Name: keywords, dtype: object"
            ]
          },
          "metadata": {
            "tags": []
          },
          "execution_count": 80
        }
      ]
    },
    {
      "cell_type": "code",
      "metadata": {
        "id": "EWC52vrySZj9",
        "colab_type": "code",
        "outputId": "43d80a70-7807-4fea-9881-15b1d3a71b79",
        "colab": {
          "base_uri": "https://localhost:8080/",
          "height": 1000
        }
      },
      "source": [
        "tf1 = (metadata['overview'][1:2]).apply(lambda x: pd.value_counts(x.split(\" \"))).sum(axis = 0).reset_index()\n",
        "tf1.columns = ['words','tf']\n",
        "tf1"
      ],
      "execution_count": 81,
      "outputs": [
        {
          "output_type": "execute_result",
          "data": {
            "text/html": [
              "<div>\n",
              "<style scoped>\n",
              "    .dataframe tbody tr th:only-of-type {\n",
              "        vertical-align: middle;\n",
              "    }\n",
              "\n",
              "    .dataframe tbody tr th {\n",
              "        vertical-align: top;\n",
              "    }\n",
              "\n",
              "    .dataframe thead th {\n",
              "        text-align: right;\n",
              "    }\n",
              "</style>\n",
              "<table border=\"1\" class=\"dataframe\">\n",
              "  <thead>\n",
              "    <tr style=\"text-align: right;\">\n",
              "      <th></th>\n",
              "      <th>words</th>\n",
              "      <th>tf</th>\n",
              "    </tr>\n",
              "  </thead>\n",
              "  <tbody>\n",
              "    <tr>\n",
              "      <th>0</th>\n",
              "      <td>game</td>\n",
              "      <td>3</td>\n",
              "    </tr>\n",
              "    <tr>\n",
              "      <th>1</th>\n",
              "      <td>themselves</td>\n",
              "      <td>1</td>\n",
              "    </tr>\n",
              "    <tr>\n",
              "      <th>2</th>\n",
              "      <td>trapped</td>\n",
              "      <td>1</td>\n",
              "    </tr>\n",
              "    <tr>\n",
              "      <th>3</th>\n",
              "      <td>opens</td>\n",
              "      <td>1</td>\n",
              "    </tr>\n",
              "    <tr>\n",
              "      <th>4</th>\n",
              "      <td>evil</td>\n",
              "      <td>1</td>\n",
              "    </tr>\n",
              "    <tr>\n",
              "      <th>5</th>\n",
              "      <td>finish</td>\n",
              "      <td>1</td>\n",
              "    </tr>\n",
              "    <tr>\n",
              "      <th>6</th>\n",
              "      <td>giant</td>\n",
              "      <td>1</td>\n",
              "    </tr>\n",
              "    <tr>\n",
              "      <th>7</th>\n",
              "      <td>discover</td>\n",
              "      <td>1</td>\n",
              "    </tr>\n",
              "    <tr>\n",
              "      <th>8</th>\n",
              "      <td>find</td>\n",
              "      <td>1</td>\n",
              "    </tr>\n",
              "    <tr>\n",
              "      <th>9</th>\n",
              "      <td>hope</td>\n",
              "      <td>1</td>\n",
              "    </tr>\n",
              "    <tr>\n",
              "      <th>10</th>\n",
              "      <td>board</td>\n",
              "      <td>1</td>\n",
              "    </tr>\n",
              "    <tr>\n",
              "      <th>11</th>\n",
              "      <td>terrifying</td>\n",
              "      <td>1</td>\n",
              "    </tr>\n",
              "    <tr>\n",
              "      <th>12</th>\n",
              "      <td>risky</td>\n",
              "      <td>1</td>\n",
              "    </tr>\n",
              "    <tr>\n",
              "      <th>13</th>\n",
              "      <td>door</td>\n",
              "      <td>1</td>\n",
              "    </tr>\n",
              "    <tr>\n",
              "      <th>14</th>\n",
              "      <td>running</td>\n",
              "      <td>1</td>\n",
              "    </tr>\n",
              "    <tr>\n",
              "      <th>15</th>\n",
              "      <td>when</td>\n",
              "      <td>1</td>\n",
              "    </tr>\n",
              "    <tr>\n",
              "      <th>16</th>\n",
              "      <td>other</td>\n",
              "      <td>1</td>\n",
              "    </tr>\n",
              "    <tr>\n",
              "      <th>17</th>\n",
              "      <td>monkeys</td>\n",
              "      <td>1</td>\n",
              "    </tr>\n",
              "    <tr>\n",
              "      <th>18</th>\n",
              "      <td>peter</td>\n",
              "      <td>1</td>\n",
              "    </tr>\n",
              "    <tr>\n",
              "      <th>19</th>\n",
              "      <td>proves</td>\n",
              "      <td>1</td>\n",
              "    </tr>\n",
              "    <tr>\n",
              "      <th>20</th>\n",
              "      <td>freedom</td>\n",
              "      <td>1</td>\n",
              "    </tr>\n",
              "    <tr>\n",
              "      <th>21</th>\n",
              "      <td>judy</td>\n",
              "      <td>1</td>\n",
              "    </tr>\n",
              "    <tr>\n",
              "      <th>22</th>\n",
              "      <td>unwittingly</td>\n",
              "      <td>1</td>\n",
              "    </tr>\n",
              "    <tr>\n",
              "      <th>23</th>\n",
              "      <td>rhinoceroses</td>\n",
              "      <td>1</td>\n",
              "    </tr>\n",
              "    <tr>\n",
              "      <th>24</th>\n",
              "      <td>alan</td>\n",
              "      <td>1</td>\n",
              "    </tr>\n",
              "    <tr>\n",
              "      <th>25</th>\n",
              "      <td>26</td>\n",
              "      <td>1</td>\n",
              "    </tr>\n",
              "    <tr>\n",
              "      <th>26</th>\n",
              "      <td>whos</td>\n",
              "      <td>1</td>\n",
              "    </tr>\n",
              "    <tr>\n",
              "      <th>27</th>\n",
              "      <td>world</td>\n",
              "      <td>1</td>\n",
              "    </tr>\n",
              "    <tr>\n",
              "      <th>28</th>\n",
              "      <td>adult</td>\n",
              "      <td>1</td>\n",
              "    </tr>\n",
              "    <tr>\n",
              "      <th>29</th>\n",
              "      <td>all</td>\n",
              "      <td>1</td>\n",
              "    </tr>\n",
              "    <tr>\n",
              "      <th>30</th>\n",
              "      <td>been</td>\n",
              "      <td>1</td>\n",
              "    </tr>\n",
              "    <tr>\n",
              "      <th>31</th>\n",
              "      <td>which</td>\n",
              "      <td>1</td>\n",
              "    </tr>\n",
              "    <tr>\n",
              "      <th>32</th>\n",
              "      <td>invite</td>\n",
              "      <td>1</td>\n",
              "    </tr>\n",
              "    <tr>\n",
              "      <th>33</th>\n",
              "      <td>enchanted</td>\n",
              "      <td>1</td>\n",
              "    </tr>\n",
              "    <tr>\n",
              "      <th>34</th>\n",
              "      <td>alans</td>\n",
              "      <td>1</td>\n",
              "    </tr>\n",
              "    <tr>\n",
              "      <th>35</th>\n",
              "      <td>room</td>\n",
              "      <td>1</td>\n",
              "    </tr>\n",
              "    <tr>\n",
              "      <th>36</th>\n",
              "      <td>they</td>\n",
              "      <td>1</td>\n",
              "    </tr>\n",
              "    <tr>\n",
              "      <th>37</th>\n",
              "      <td>living</td>\n",
              "      <td>1</td>\n",
              "    </tr>\n",
              "    <tr>\n",
              "      <th>38</th>\n",
              "      <td>creatures</td>\n",
              "      <td>1</td>\n",
              "    </tr>\n",
              "    <tr>\n",
              "      <th>39</th>\n",
              "      <td>inside</td>\n",
              "      <td>1</td>\n",
              "    </tr>\n",
              "    <tr>\n",
              "      <th>40</th>\n",
              "      <td>years</td>\n",
              "      <td>1</td>\n",
              "    </tr>\n",
              "    <tr>\n",
              "      <th>41</th>\n",
              "      <td>siblings</td>\n",
              "      <td>1</td>\n",
              "    </tr>\n",
              "    <tr>\n",
              "      <th>42</th>\n",
              "      <td>magical</td>\n",
              "      <td>1</td>\n",
              "    </tr>\n",
              "    <tr>\n",
              "      <th>43</th>\n",
              "      <td>only</td>\n",
              "      <td>1</td>\n",
              "    </tr>\n",
              "    <tr>\n",
              "      <th>44</th>\n",
              "      <td>three</td>\n",
              "      <td>1</td>\n",
              "    </tr>\n",
              "    <tr>\n",
              "      <th>45</th>\n",
              "      <td>into</td>\n",
              "      <td>1</td>\n",
              "    </tr>\n",
              "  </tbody>\n",
              "</table>\n",
              "</div>"
            ],
            "text/plain": [
              "           words  tf\n",
              "0           game   3\n",
              "1     themselves   1\n",
              "2        trapped   1\n",
              "3          opens   1\n",
              "4           evil   1\n",
              "5         finish   1\n",
              "6          giant   1\n",
              "7       discover   1\n",
              "8           find   1\n",
              "9           hope   1\n",
              "10         board   1\n",
              "11    terrifying   1\n",
              "12         risky   1\n",
              "13          door   1\n",
              "14       running   1\n",
              "15          when   1\n",
              "16         other   1\n",
              "17       monkeys   1\n",
              "18         peter   1\n",
              "19        proves   1\n",
              "20       freedom   1\n",
              "21          judy   1\n",
              "22   unwittingly   1\n",
              "23  rhinoceroses   1\n",
              "24          alan   1\n",
              "25            26   1\n",
              "26          whos   1\n",
              "27         world   1\n",
              "28         adult   1\n",
              "29           all   1\n",
              "30          been   1\n",
              "31         which   1\n",
              "32        invite   1\n",
              "33     enchanted   1\n",
              "34         alans   1\n",
              "35          room   1\n",
              "36          they   1\n",
              "37        living   1\n",
              "38     creatures   1\n",
              "39        inside   1\n",
              "40         years   1\n",
              "41      siblings   1\n",
              "42       magical   1\n",
              "43          only   1\n",
              "44         three   1\n",
              "45          into   1"
            ]
          },
          "metadata": {
            "tags": []
          },
          "execution_count": 81
        }
      ]
    },
    {
      "cell_type": "code",
      "metadata": {
        "id": "WZ7dKJChbzZ2",
        "colab_type": "code",
        "outputId": "d691224b-765b-4934-a754-3827bbb43c8f",
        "colab": {
          "base_uri": "https://localhost:8080/",
          "height": 1000
        }
      },
      "source": [
        "for i,word in enumerate(tf1['words']):\n",
        "  tf1.loc[i, 'idf'] = np.log(metadata.shape[0]/(len(metadata[metadata['overview'].str.contains(word)])))\n",
        "\n",
        "tf1"
      ],
      "execution_count": 82,
      "outputs": [
        {
          "output_type": "execute_result",
          "data": {
            "text/html": [
              "<div>\n",
              "<style scoped>\n",
              "    .dataframe tbody tr th:only-of-type {\n",
              "        vertical-align: middle;\n",
              "    }\n",
              "\n",
              "    .dataframe tbody tr th {\n",
              "        vertical-align: top;\n",
              "    }\n",
              "\n",
              "    .dataframe thead th {\n",
              "        text-align: right;\n",
              "    }\n",
              "</style>\n",
              "<table border=\"1\" class=\"dataframe\">\n",
              "  <thead>\n",
              "    <tr style=\"text-align: right;\">\n",
              "      <th></th>\n",
              "      <th>words</th>\n",
              "      <th>tf</th>\n",
              "      <th>idf</th>\n",
              "    </tr>\n",
              "  </thead>\n",
              "  <tbody>\n",
              "    <tr>\n",
              "      <th>0</th>\n",
              "      <td>game</td>\n",
              "      <td>3</td>\n",
              "      <td>3.978241</td>\n",
              "    </tr>\n",
              "    <tr>\n",
              "      <th>1</th>\n",
              "      <td>themselves</td>\n",
              "      <td>1</td>\n",
              "      <td>3.816240</td>\n",
              "    </tr>\n",
              "    <tr>\n",
              "      <th>2</th>\n",
              "      <td>trapped</td>\n",
              "      <td>1</td>\n",
              "      <td>4.747798</td>\n",
              "    </tr>\n",
              "    <tr>\n",
              "      <th>3</th>\n",
              "      <td>opens</td>\n",
              "      <td>1</td>\n",
              "      <td>5.494461</td>\n",
              "    </tr>\n",
              "    <tr>\n",
              "      <th>4</th>\n",
              "      <td>evil</td>\n",
              "      <td>1</td>\n",
              "      <td>3.622256</td>\n",
              "    </tr>\n",
              "    <tr>\n",
              "      <th>5</th>\n",
              "      <td>finish</td>\n",
              "      <td>1</td>\n",
              "      <td>5.253673</td>\n",
              "    </tr>\n",
              "    <tr>\n",
              "      <th>6</th>\n",
              "      <td>giant</td>\n",
              "      <td>1</td>\n",
              "      <td>5.094245</td>\n",
              "    </tr>\n",
              "    <tr>\n",
              "      <th>7</th>\n",
              "      <td>discover</td>\n",
              "      <td>1</td>\n",
              "      <td>2.780148</td>\n",
              "    </tr>\n",
              "    <tr>\n",
              "      <th>8</th>\n",
              "      <td>find</td>\n",
              "      <td>1</td>\n",
              "      <td>2.017661</td>\n",
              "    </tr>\n",
              "    <tr>\n",
              "      <th>9</th>\n",
              "      <td>hope</td>\n",
              "      <td>1</td>\n",
              "      <td>3.803612</td>\n",
              "    </tr>\n",
              "    <tr>\n",
              "      <th>10</th>\n",
              "      <td>board</td>\n",
              "      <td>1</td>\n",
              "      <td>4.375123</td>\n",
              "    </tr>\n",
              "    <tr>\n",
              "      <th>11</th>\n",
              "      <td>terrifying</td>\n",
              "      <td>1</td>\n",
              "      <td>5.209400</td>\n",
              "    </tr>\n",
              "    <tr>\n",
              "      <th>12</th>\n",
              "      <td>risky</td>\n",
              "      <td>1</td>\n",
              "      <td>7.057855</td>\n",
              "    </tr>\n",
              "    <tr>\n",
              "      <th>13</th>\n",
              "      <td>door</td>\n",
              "      <td>1</td>\n",
              "      <td>4.648660</td>\n",
              "    </tr>\n",
              "    <tr>\n",
              "      <th>14</th>\n",
              "      <td>running</td>\n",
              "      <td>1</td>\n",
              "      <td>4.941599</td>\n",
              "    </tr>\n",
              "    <tr>\n",
              "      <th>15</th>\n",
              "      <td>when</td>\n",
              "      <td>1</td>\n",
              "      <td>1.559253</td>\n",
              "    </tr>\n",
              "    <tr>\n",
              "      <th>16</th>\n",
              "      <td>other</td>\n",
              "      <td>1</td>\n",
              "      <td>1.768831</td>\n",
              "    </tr>\n",
              "    <tr>\n",
              "      <th>17</th>\n",
              "      <td>monkeys</td>\n",
              "      <td>1</td>\n",
              "      <td>7.702212</td>\n",
              "    </tr>\n",
              "    <tr>\n",
              "      <th>18</th>\n",
              "      <td>peter</td>\n",
              "      <td>1</td>\n",
              "      <td>4.747798</td>\n",
              "    </tr>\n",
              "    <tr>\n",
              "      <th>19</th>\n",
              "      <td>proves</td>\n",
              "      <td>1</td>\n",
              "      <td>5.357663</td>\n",
              "    </tr>\n",
              "    <tr>\n",
              "      <th>20</th>\n",
              "      <td>freedom</td>\n",
              "      <td>1</td>\n",
              "      <td>4.987833</td>\n",
              "    </tr>\n",
              "    <tr>\n",
              "      <th>21</th>\n",
              "      <td>judy</td>\n",
              "      <td>1</td>\n",
              "      <td>7.109148</td>\n",
              "    </tr>\n",
              "    <tr>\n",
              "      <th>22</th>\n",
              "      <td>unwittingly</td>\n",
              "      <td>1</td>\n",
              "      <td>6.073906</td>\n",
              "    </tr>\n",
              "    <tr>\n",
              "      <th>23</th>\n",
              "      <td>rhinoceroses</td>\n",
              "      <td>1</td>\n",
              "      <td>9.648122</td>\n",
              "    </tr>\n",
              "    <tr>\n",
              "      <th>24</th>\n",
              "      <td>alan</td>\n",
              "      <td>1</td>\n",
              "      <td>4.735467</td>\n",
              "    </tr>\n",
              "    <tr>\n",
              "      <th>25</th>\n",
              "      <td>26</td>\n",
              "      <td>1</td>\n",
              "      <td>6.456275</td>\n",
              "    </tr>\n",
              "    <tr>\n",
              "      <th>26</th>\n",
              "      <td>whos</td>\n",
              "      <td>1</td>\n",
              "      <td>3.325557</td>\n",
              "    </tr>\n",
              "    <tr>\n",
              "      <th>27</th>\n",
              "      <td>world</td>\n",
              "      <td>1</td>\n",
              "      <td>2.292055</td>\n",
              "    </tr>\n",
              "    <tr>\n",
              "      <th>28</th>\n",
              "      <td>adult</td>\n",
              "      <td>1</td>\n",
              "      <td>4.604697</td>\n",
              "    </tr>\n",
              "    <tr>\n",
              "      <th>29</th>\n",
              "      <td>all</td>\n",
              "      <td>1</td>\n",
              "      <td>1.022254</td>\n",
              "    </tr>\n",
              "    <tr>\n",
              "      <th>30</th>\n",
              "      <td>been</td>\n",
              "      <td>1</td>\n",
              "      <td>2.979894</td>\n",
              "    </tr>\n",
              "    <tr>\n",
              "      <th>31</th>\n",
              "      <td>which</td>\n",
              "      <td>1</td>\n",
              "      <td>2.656332</td>\n",
              "    </tr>\n",
              "    <tr>\n",
              "      <th>32</th>\n",
              "      <td>invite</td>\n",
              "      <td>1</td>\n",
              "      <td>4.888801</td>\n",
              "    </tr>\n",
              "    <tr>\n",
              "      <th>33</th>\n",
              "      <td>enchanted</td>\n",
              "      <td>1</td>\n",
              "      <td>6.721383</td>\n",
              "    </tr>\n",
              "    <tr>\n",
              "      <th>34</th>\n",
              "      <td>alans</td>\n",
              "      <td>1</td>\n",
              "      <td>8.800824</td>\n",
              "    </tr>\n",
              "    <tr>\n",
              "      <th>35</th>\n",
              "      <td>room</td>\n",
              "      <td>1</td>\n",
              "      <td>3.955513</td>\n",
              "    </tr>\n",
              "    <tr>\n",
              "      <th>36</th>\n",
              "      <td>they</td>\n",
              "      <td>1</td>\n",
              "      <td>1.825143</td>\n",
              "    </tr>\n",
              "    <tr>\n",
              "      <th>37</th>\n",
              "      <td>living</td>\n",
              "      <td>1</td>\n",
              "      <td>3.444238</td>\n",
              "    </tr>\n",
              "    <tr>\n",
              "      <th>38</th>\n",
              "      <td>creatures</td>\n",
              "      <td>1</td>\n",
              "      <td>5.458467</td>\n",
              "    </tr>\n",
              "    <tr>\n",
              "      <th>39</th>\n",
              "      <td>inside</td>\n",
              "      <td>1</td>\n",
              "      <td>4.502567</td>\n",
              "    </tr>\n",
              "    <tr>\n",
              "      <th>40</th>\n",
              "      <td>years</td>\n",
              "      <td>1</td>\n",
              "      <td>2.640823</td>\n",
              "    </tr>\n",
              "    <tr>\n",
              "      <th>41</th>\n",
              "      <td>siblings</td>\n",
              "      <td>1</td>\n",
              "      <td>6.131614</td>\n",
              "    </tr>\n",
              "    <tr>\n",
              "      <th>42</th>\n",
              "      <td>magical</td>\n",
              "      <td>1</td>\n",
              "      <td>5.144616</td>\n",
              "    </tr>\n",
              "    <tr>\n",
              "      <th>43</th>\n",
              "      <td>only</td>\n",
              "      <td>1</td>\n",
              "      <td>2.614028</td>\n",
              "    </tr>\n",
              "    <tr>\n",
              "      <th>44</th>\n",
              "      <td>three</td>\n",
              "      <td>1</td>\n",
              "      <td>3.061031</td>\n",
              "    </tr>\n",
              "    <tr>\n",
              "      <th>45</th>\n",
              "      <td>into</td>\n",
              "      <td>1</td>\n",
              "      <td>2.006398</td>\n",
              "    </tr>\n",
              "  </tbody>\n",
              "</table>\n",
              "</div>"
            ],
            "text/plain": [
              "           words  tf       idf\n",
              "0           game   3  3.978241\n",
              "1     themselves   1  3.816240\n",
              "2        trapped   1  4.747798\n",
              "3          opens   1  5.494461\n",
              "4           evil   1  3.622256\n",
              "5         finish   1  5.253673\n",
              "6          giant   1  5.094245\n",
              "7       discover   1  2.780148\n",
              "8           find   1  2.017661\n",
              "9           hope   1  3.803612\n",
              "10         board   1  4.375123\n",
              "11    terrifying   1  5.209400\n",
              "12         risky   1  7.057855\n",
              "13          door   1  4.648660\n",
              "14       running   1  4.941599\n",
              "15          when   1  1.559253\n",
              "16         other   1  1.768831\n",
              "17       monkeys   1  7.702212\n",
              "18         peter   1  4.747798\n",
              "19        proves   1  5.357663\n",
              "20       freedom   1  4.987833\n",
              "21          judy   1  7.109148\n",
              "22   unwittingly   1  6.073906\n",
              "23  rhinoceroses   1  9.648122\n",
              "24          alan   1  4.735467\n",
              "25            26   1  6.456275\n",
              "26          whos   1  3.325557\n",
              "27         world   1  2.292055\n",
              "28         adult   1  4.604697\n",
              "29           all   1  1.022254\n",
              "30          been   1  2.979894\n",
              "31         which   1  2.656332\n",
              "32        invite   1  4.888801\n",
              "33     enchanted   1  6.721383\n",
              "34         alans   1  8.800824\n",
              "35          room   1  3.955513\n",
              "36          they   1  1.825143\n",
              "37        living   1  3.444238\n",
              "38     creatures   1  5.458467\n",
              "39        inside   1  4.502567\n",
              "40         years   1  2.640823\n",
              "41      siblings   1  6.131614\n",
              "42       magical   1  5.144616\n",
              "43          only   1  2.614028\n",
              "44         three   1  3.061031\n",
              "45          into   1  2.006398"
            ]
          },
          "metadata": {
            "tags": []
          },
          "execution_count": 82
        }
      ]
    },
    {
      "cell_type": "code",
      "metadata": {
        "id": "xH9IkXy4cLhe",
        "colab_type": "code",
        "outputId": "ee6b532c-77c9-44ef-9540-01bd615f6265",
        "colab": {
          "base_uri": "https://localhost:8080/",
          "height": 1000
        }
      },
      "source": [
        "\n",
        "tf1['tfidf'] = tf1['tf'] * tf1['idf']\n",
        "tf1"
      ],
      "execution_count": 83,
      "outputs": [
        {
          "output_type": "execute_result",
          "data": {
            "text/html": [
              "<div>\n",
              "<style scoped>\n",
              "    .dataframe tbody tr th:only-of-type {\n",
              "        vertical-align: middle;\n",
              "    }\n",
              "\n",
              "    .dataframe tbody tr th {\n",
              "        vertical-align: top;\n",
              "    }\n",
              "\n",
              "    .dataframe thead th {\n",
              "        text-align: right;\n",
              "    }\n",
              "</style>\n",
              "<table border=\"1\" class=\"dataframe\">\n",
              "  <thead>\n",
              "    <tr style=\"text-align: right;\">\n",
              "      <th></th>\n",
              "      <th>words</th>\n",
              "      <th>tf</th>\n",
              "      <th>idf</th>\n",
              "      <th>tfidf</th>\n",
              "    </tr>\n",
              "  </thead>\n",
              "  <tbody>\n",
              "    <tr>\n",
              "      <th>0</th>\n",
              "      <td>game</td>\n",
              "      <td>3</td>\n",
              "      <td>3.978241</td>\n",
              "      <td>11.934723</td>\n",
              "    </tr>\n",
              "    <tr>\n",
              "      <th>1</th>\n",
              "      <td>themselves</td>\n",
              "      <td>1</td>\n",
              "      <td>3.816240</td>\n",
              "      <td>3.816240</td>\n",
              "    </tr>\n",
              "    <tr>\n",
              "      <th>2</th>\n",
              "      <td>trapped</td>\n",
              "      <td>1</td>\n",
              "      <td>4.747798</td>\n",
              "      <td>4.747798</td>\n",
              "    </tr>\n",
              "    <tr>\n",
              "      <th>3</th>\n",
              "      <td>opens</td>\n",
              "      <td>1</td>\n",
              "      <td>5.494461</td>\n",
              "      <td>5.494461</td>\n",
              "    </tr>\n",
              "    <tr>\n",
              "      <th>4</th>\n",
              "      <td>evil</td>\n",
              "      <td>1</td>\n",
              "      <td>3.622256</td>\n",
              "      <td>3.622256</td>\n",
              "    </tr>\n",
              "    <tr>\n",
              "      <th>5</th>\n",
              "      <td>finish</td>\n",
              "      <td>1</td>\n",
              "      <td>5.253673</td>\n",
              "      <td>5.253673</td>\n",
              "    </tr>\n",
              "    <tr>\n",
              "      <th>6</th>\n",
              "      <td>giant</td>\n",
              "      <td>1</td>\n",
              "      <td>5.094245</td>\n",
              "      <td>5.094245</td>\n",
              "    </tr>\n",
              "    <tr>\n",
              "      <th>7</th>\n",
              "      <td>discover</td>\n",
              "      <td>1</td>\n",
              "      <td>2.780148</td>\n",
              "      <td>2.780148</td>\n",
              "    </tr>\n",
              "    <tr>\n",
              "      <th>8</th>\n",
              "      <td>find</td>\n",
              "      <td>1</td>\n",
              "      <td>2.017661</td>\n",
              "      <td>2.017661</td>\n",
              "    </tr>\n",
              "    <tr>\n",
              "      <th>9</th>\n",
              "      <td>hope</td>\n",
              "      <td>1</td>\n",
              "      <td>3.803612</td>\n",
              "      <td>3.803612</td>\n",
              "    </tr>\n",
              "    <tr>\n",
              "      <th>10</th>\n",
              "      <td>board</td>\n",
              "      <td>1</td>\n",
              "      <td>4.375123</td>\n",
              "      <td>4.375123</td>\n",
              "    </tr>\n",
              "    <tr>\n",
              "      <th>11</th>\n",
              "      <td>terrifying</td>\n",
              "      <td>1</td>\n",
              "      <td>5.209400</td>\n",
              "      <td>5.209400</td>\n",
              "    </tr>\n",
              "    <tr>\n",
              "      <th>12</th>\n",
              "      <td>risky</td>\n",
              "      <td>1</td>\n",
              "      <td>7.057855</td>\n",
              "      <td>7.057855</td>\n",
              "    </tr>\n",
              "    <tr>\n",
              "      <th>13</th>\n",
              "      <td>door</td>\n",
              "      <td>1</td>\n",
              "      <td>4.648660</td>\n",
              "      <td>4.648660</td>\n",
              "    </tr>\n",
              "    <tr>\n",
              "      <th>14</th>\n",
              "      <td>running</td>\n",
              "      <td>1</td>\n",
              "      <td>4.941599</td>\n",
              "      <td>4.941599</td>\n",
              "    </tr>\n",
              "    <tr>\n",
              "      <th>15</th>\n",
              "      <td>when</td>\n",
              "      <td>1</td>\n",
              "      <td>1.559253</td>\n",
              "      <td>1.559253</td>\n",
              "    </tr>\n",
              "    <tr>\n",
              "      <th>16</th>\n",
              "      <td>other</td>\n",
              "      <td>1</td>\n",
              "      <td>1.768831</td>\n",
              "      <td>1.768831</td>\n",
              "    </tr>\n",
              "    <tr>\n",
              "      <th>17</th>\n",
              "      <td>monkeys</td>\n",
              "      <td>1</td>\n",
              "      <td>7.702212</td>\n",
              "      <td>7.702212</td>\n",
              "    </tr>\n",
              "    <tr>\n",
              "      <th>18</th>\n",
              "      <td>peter</td>\n",
              "      <td>1</td>\n",
              "      <td>4.747798</td>\n",
              "      <td>4.747798</td>\n",
              "    </tr>\n",
              "    <tr>\n",
              "      <th>19</th>\n",
              "      <td>proves</td>\n",
              "      <td>1</td>\n",
              "      <td>5.357663</td>\n",
              "      <td>5.357663</td>\n",
              "    </tr>\n",
              "    <tr>\n",
              "      <th>20</th>\n",
              "      <td>freedom</td>\n",
              "      <td>1</td>\n",
              "      <td>4.987833</td>\n",
              "      <td>4.987833</td>\n",
              "    </tr>\n",
              "    <tr>\n",
              "      <th>21</th>\n",
              "      <td>judy</td>\n",
              "      <td>1</td>\n",
              "      <td>7.109148</td>\n",
              "      <td>7.109148</td>\n",
              "    </tr>\n",
              "    <tr>\n",
              "      <th>22</th>\n",
              "      <td>unwittingly</td>\n",
              "      <td>1</td>\n",
              "      <td>6.073906</td>\n",
              "      <td>6.073906</td>\n",
              "    </tr>\n",
              "    <tr>\n",
              "      <th>23</th>\n",
              "      <td>rhinoceroses</td>\n",
              "      <td>1</td>\n",
              "      <td>9.648122</td>\n",
              "      <td>9.648122</td>\n",
              "    </tr>\n",
              "    <tr>\n",
              "      <th>24</th>\n",
              "      <td>alan</td>\n",
              "      <td>1</td>\n",
              "      <td>4.735467</td>\n",
              "      <td>4.735467</td>\n",
              "    </tr>\n",
              "    <tr>\n",
              "      <th>25</th>\n",
              "      <td>26</td>\n",
              "      <td>1</td>\n",
              "      <td>6.456275</td>\n",
              "      <td>6.456275</td>\n",
              "    </tr>\n",
              "    <tr>\n",
              "      <th>26</th>\n",
              "      <td>whos</td>\n",
              "      <td>1</td>\n",
              "      <td>3.325557</td>\n",
              "      <td>3.325557</td>\n",
              "    </tr>\n",
              "    <tr>\n",
              "      <th>27</th>\n",
              "      <td>world</td>\n",
              "      <td>1</td>\n",
              "      <td>2.292055</td>\n",
              "      <td>2.292055</td>\n",
              "    </tr>\n",
              "    <tr>\n",
              "      <th>28</th>\n",
              "      <td>adult</td>\n",
              "      <td>1</td>\n",
              "      <td>4.604697</td>\n",
              "      <td>4.604697</td>\n",
              "    </tr>\n",
              "    <tr>\n",
              "      <th>29</th>\n",
              "      <td>all</td>\n",
              "      <td>1</td>\n",
              "      <td>1.022254</td>\n",
              "      <td>1.022254</td>\n",
              "    </tr>\n",
              "    <tr>\n",
              "      <th>30</th>\n",
              "      <td>been</td>\n",
              "      <td>1</td>\n",
              "      <td>2.979894</td>\n",
              "      <td>2.979894</td>\n",
              "    </tr>\n",
              "    <tr>\n",
              "      <th>31</th>\n",
              "      <td>which</td>\n",
              "      <td>1</td>\n",
              "      <td>2.656332</td>\n",
              "      <td>2.656332</td>\n",
              "    </tr>\n",
              "    <tr>\n",
              "      <th>32</th>\n",
              "      <td>invite</td>\n",
              "      <td>1</td>\n",
              "      <td>4.888801</td>\n",
              "      <td>4.888801</td>\n",
              "    </tr>\n",
              "    <tr>\n",
              "      <th>33</th>\n",
              "      <td>enchanted</td>\n",
              "      <td>1</td>\n",
              "      <td>6.721383</td>\n",
              "      <td>6.721383</td>\n",
              "    </tr>\n",
              "    <tr>\n",
              "      <th>34</th>\n",
              "      <td>alans</td>\n",
              "      <td>1</td>\n",
              "      <td>8.800824</td>\n",
              "      <td>8.800824</td>\n",
              "    </tr>\n",
              "    <tr>\n",
              "      <th>35</th>\n",
              "      <td>room</td>\n",
              "      <td>1</td>\n",
              "      <td>3.955513</td>\n",
              "      <td>3.955513</td>\n",
              "    </tr>\n",
              "    <tr>\n",
              "      <th>36</th>\n",
              "      <td>they</td>\n",
              "      <td>1</td>\n",
              "      <td>1.825143</td>\n",
              "      <td>1.825143</td>\n",
              "    </tr>\n",
              "    <tr>\n",
              "      <th>37</th>\n",
              "      <td>living</td>\n",
              "      <td>1</td>\n",
              "      <td>3.444238</td>\n",
              "      <td>3.444238</td>\n",
              "    </tr>\n",
              "    <tr>\n",
              "      <th>38</th>\n",
              "      <td>creatures</td>\n",
              "      <td>1</td>\n",
              "      <td>5.458467</td>\n",
              "      <td>5.458467</td>\n",
              "    </tr>\n",
              "    <tr>\n",
              "      <th>39</th>\n",
              "      <td>inside</td>\n",
              "      <td>1</td>\n",
              "      <td>4.502567</td>\n",
              "      <td>4.502567</td>\n",
              "    </tr>\n",
              "    <tr>\n",
              "      <th>40</th>\n",
              "      <td>years</td>\n",
              "      <td>1</td>\n",
              "      <td>2.640823</td>\n",
              "      <td>2.640823</td>\n",
              "    </tr>\n",
              "    <tr>\n",
              "      <th>41</th>\n",
              "      <td>siblings</td>\n",
              "      <td>1</td>\n",
              "      <td>6.131614</td>\n",
              "      <td>6.131614</td>\n",
              "    </tr>\n",
              "    <tr>\n",
              "      <th>42</th>\n",
              "      <td>magical</td>\n",
              "      <td>1</td>\n",
              "      <td>5.144616</td>\n",
              "      <td>5.144616</td>\n",
              "    </tr>\n",
              "    <tr>\n",
              "      <th>43</th>\n",
              "      <td>only</td>\n",
              "      <td>1</td>\n",
              "      <td>2.614028</td>\n",
              "      <td>2.614028</td>\n",
              "    </tr>\n",
              "    <tr>\n",
              "      <th>44</th>\n",
              "      <td>three</td>\n",
              "      <td>1</td>\n",
              "      <td>3.061031</td>\n",
              "      <td>3.061031</td>\n",
              "    </tr>\n",
              "    <tr>\n",
              "      <th>45</th>\n",
              "      <td>into</td>\n",
              "      <td>1</td>\n",
              "      <td>2.006398</td>\n",
              "      <td>2.006398</td>\n",
              "    </tr>\n",
              "  </tbody>\n",
              "</table>\n",
              "</div>"
            ],
            "text/plain": [
              "           words  tf       idf      tfidf\n",
              "0           game   3  3.978241  11.934723\n",
              "1     themselves   1  3.816240   3.816240\n",
              "2        trapped   1  4.747798   4.747798\n",
              "3          opens   1  5.494461   5.494461\n",
              "4           evil   1  3.622256   3.622256\n",
              "5         finish   1  5.253673   5.253673\n",
              "6          giant   1  5.094245   5.094245\n",
              "7       discover   1  2.780148   2.780148\n",
              "8           find   1  2.017661   2.017661\n",
              "9           hope   1  3.803612   3.803612\n",
              "10         board   1  4.375123   4.375123\n",
              "11    terrifying   1  5.209400   5.209400\n",
              "12         risky   1  7.057855   7.057855\n",
              "13          door   1  4.648660   4.648660\n",
              "14       running   1  4.941599   4.941599\n",
              "15          when   1  1.559253   1.559253\n",
              "16         other   1  1.768831   1.768831\n",
              "17       monkeys   1  7.702212   7.702212\n",
              "18         peter   1  4.747798   4.747798\n",
              "19        proves   1  5.357663   5.357663\n",
              "20       freedom   1  4.987833   4.987833\n",
              "21          judy   1  7.109148   7.109148\n",
              "22   unwittingly   1  6.073906   6.073906\n",
              "23  rhinoceroses   1  9.648122   9.648122\n",
              "24          alan   1  4.735467   4.735467\n",
              "25            26   1  6.456275   6.456275\n",
              "26          whos   1  3.325557   3.325557\n",
              "27         world   1  2.292055   2.292055\n",
              "28         adult   1  4.604697   4.604697\n",
              "29           all   1  1.022254   1.022254\n",
              "30          been   1  2.979894   2.979894\n",
              "31         which   1  2.656332   2.656332\n",
              "32        invite   1  4.888801   4.888801\n",
              "33     enchanted   1  6.721383   6.721383\n",
              "34         alans   1  8.800824   8.800824\n",
              "35          room   1  3.955513   3.955513\n",
              "36          they   1  1.825143   1.825143\n",
              "37        living   1  3.444238   3.444238\n",
              "38     creatures   1  5.458467   5.458467\n",
              "39        inside   1  4.502567   4.502567\n",
              "40         years   1  2.640823   2.640823\n",
              "41      siblings   1  6.131614   6.131614\n",
              "42       magical   1  5.144616   5.144616\n",
              "43          only   1  2.614028   2.614028\n",
              "44         three   1  3.061031   3.061031\n",
              "45          into   1  2.006398   2.006398"
            ]
          },
          "metadata": {
            "tags": []
          },
          "execution_count": 83
        }
      ]
    },
    {
      "cell_type": "code",
      "metadata": {
        "id": "vZpMkJQOfCD_",
        "colab_type": "code",
        "outputId": "548ea4d2-6d44-4c01-d966-46b80a4952b1",
        "colab": {
          "base_uri": "https://localhost:8080/",
          "height": 52
        }
      },
      "source": [
        "from sklearn.feature_extraction.text import TfidfVectorizer\n",
        "tfidf = TfidfVectorizer(max_features=1000, lowercase=True, analyzer='word',\n",
        " stop_words= 'english',ngram_range=(1,1))\n",
        "train_vect = tfidf.fit_transform(metadata['overview'])\n",
        "train_vect\n"
      ],
      "execution_count": 84,
      "outputs": [
        {
          "output_type": "execute_result",
          "data": {
            "text/plain": [
              "<46478x1000 sparse matrix of type '<class 'numpy.float64'>'\n",
              "\twith 555183 stored elements in Compressed Sparse Row format>"
            ]
          },
          "metadata": {
            "tags": []
          },
          "execution_count": 84
        }
      ]
    },
    {
      "cell_type": "code",
      "metadata": {
        "id": "i3PiDuusftwk",
        "colab_type": "code",
        "outputId": "8fdd70b1-bd7c-404b-b503-84a8f4ae6987",
        "colab": {
          "base_uri": "https://localhost:8080/",
          "height": 52
        }
      },
      "source": [
        "from sklearn.feature_extraction.text import CountVectorizer\n",
        "bow = CountVectorizer(max_features=1000, lowercase=True, ngram_range=(1,1),analyzer = \"word\")\n",
        "train_bow = bow.fit_transform(metadata['overview'])\n",
        "train_bow"
      ],
      "execution_count": 85,
      "outputs": [
        {
          "output_type": "execute_result",
          "data": {
            "text/plain": [
              "<46478x1000 sparse matrix of type '<class 'numpy.int64'>'\n",
              "\twith 832589 stored elements in Compressed Sparse Row format>"
            ]
          },
          "metadata": {
            "tags": []
          },
          "execution_count": 85
        }
      ]
    },
    {
      "cell_type": "code",
      "metadata": {
        "id": "4ZrnPcCdgP6T",
        "colab_type": "code",
        "outputId": "b13e9c11-1516-4b60-eb2c-2efb18490fd4",
        "colab": {
          "base_uri": "https://localhost:8080/",
          "height": 34
        }
      },
      "source": [
        "import random\n",
        "ran = random.randint(25000, 30000)\n",
        "df = metadata.head(ran)\n",
        "tfidf_matrix = tfidf.fit_transform(df['overview'])\n",
        "\n",
        "#Output the shape of tfidf_matrix\n",
        "tfidf_matrix.shape"
      ],
      "execution_count": 86,
      "outputs": [
        {
          "output_type": "execute_result",
          "data": {
            "text/plain": [
              "(27569, 1000)"
            ]
          },
          "metadata": {
            "tags": []
          },
          "execution_count": 86
        }
      ]
    },
    {
      "cell_type": "code",
      "metadata": {
        "id": "5TqAGflmm_fT",
        "colab_type": "code",
        "colab": {}
      },
      "source": [
        "\n",
        "from sklearn.metrics.pairwise import linear_kernel\n",
        "cosine_sim =  linear_kernel(tfidf_matrix, tfidf_matrix, True)"
      ],
      "execution_count": 0,
      "outputs": []
    },
    {
      "cell_type": "code",
      "metadata": {
        "id": "19493Hsun9xa",
        "colab_type": "code",
        "colab": {}
      },
      "source": [
        "indices = pd.Series(df.index, index=df['title']).drop_duplicates()\n"
      ],
      "execution_count": 0,
      "outputs": []
    },
    {
      "cell_type": "code",
      "metadata": {
        "id": "xLHjnA8BoL53",
        "colab_type": "code",
        "colab": {}
      },
      "source": [
        "def get_recommendations(title, cosine_sim=cosine_sim):\n",
        "    # Get the index of the movie that matches the title\n",
        "    idx = indices[title]\n",
        "\n",
        "    # Get the pairwsie similarity scores of all movies with that movie\n",
        "    sim_scores = list(enumerate(cosine_sim[idx]))\n",
        "\n",
        "    # Sort the movies based on the similarity scores\n",
        "    sim_scores = sorted(sim_scores, key=lambda x: x[1], reverse=True)\n",
        "\n",
        "    # Get the scores of the 10 most similar movies\n",
        "    sim_scores = sim_scores[1:11]\n",
        "\n",
        "    # Get the movie indices\n",
        "    movie_indices = [i[0] for i in sim_scores]\n",
        "\n",
        "    # Return the top 10 most similar movies\n",
        "    return df['title'].iloc[movie_indices]"
      ],
      "execution_count": 0,
      "outputs": []
    },
    {
      "cell_type": "code",
      "metadata": {
        "id": "0Rjo2GSMo77P",
        "colab_type": "code",
        "outputId": "477605bf-d9dd-4d6c-c49e-40fb42e3a328",
        "colab": {
          "base_uri": "https://localhost:8080/",
          "height": 208
        }
      },
      "source": [
        "get_recommendations(\"Harry Potter and the Philosopher's Stone\")\n"
      ],
      "execution_count": 90,
      "outputs": [
        {
          "output_type": "execute_result",
          "data": {
            "text/plain": [
              "3234                              Born Yesterday\n",
              "23577                                        Luv\n",
              "10593        Harry Potter and the Goblet of Fire\n",
              "7144                               Love at Large\n",
              "3962                    Harry, He's Here To Help\n",
              "4387                               The Dead Pool\n",
              "17072                                 Crazy Love\n",
              "17511    Harry Potter and the Deathly Hallows...\n",
              "26908                                 Long Pants\n",
              "10425              The Greatest Game Ever Played\n",
              "Name: title, dtype: object"
            ]
          },
          "metadata": {
            "tags": []
          },
          "execution_count": 90
        }
      ]
    },
    {
      "cell_type": "code",
      "metadata": {
        "id": "kDfs1a9Aswy1",
        "colab_type": "code",
        "outputId": "cf2758fd-e3da-4d2b-af09-95f0bc426c40",
        "colab": {
          "base_uri": "https://localhost:8080/",
          "height": 139
        }
      },
      "source": [
        "keyword.info()"
      ],
      "execution_count": 91,
      "outputs": [
        {
          "output_type": "stream",
          "text": [
            "<class 'pandas.core.frame.DataFrame'>\n",
            "RangeIndex: 46419 entries, 0 to 46418\n",
            "Data columns (total 2 columns):\n",
            "id          46419 non-null int64\n",
            "keywords    46419 non-null object\n",
            "dtypes: int64(1), object(1)\n",
            "memory usage: 725.4+ KB\n"
          ],
          "name": "stdout"
        }
      ]
    },
    {
      "cell_type": "code",
      "metadata": {
        "id": "H6TVu1iktxxd",
        "colab_type": "code",
        "outputId": "ffd6cb29-2926-4771-be7b-1a0a6e2597de",
        "colab": {
          "base_uri": "https://localhost:8080/",
          "height": 578
        }
      },
      "source": [
        "metadata.info()"
      ],
      "execution_count": 0,
      "outputs": [
        {
          "output_type": "stream",
          "text": [
            "<class 'pandas.core.frame.DataFrame'>\n",
            "Int64Index: 46478 entries, 0 to 46477\n",
            "Data columns (total 28 columns):\n",
            "adult                    46478 non-null bool\n",
            "belongs_to_collection    46478 non-null bool\n",
            "budget                   9011 non-null float64\n",
            "genres                   46478 non-null object\n",
            "homepage                 7985 non-null object\n",
            "id                       46478 non-null int64\n",
            "imdb_id                  46461 non-null object\n",
            "original_language        46467 non-null object\n",
            "original_title           46478 non-null object\n",
            "overview                 46478 non-null object\n",
            "popularity               46478 non-null object\n",
            "poster_path              46083 non-null object\n",
            "production_companies     46478 non-null object\n",
            "production_countries     46478 non-null object\n",
            "release_date             46394 non-null datetime64[ns]\n",
            "revenue                  11074 non-null float64\n",
            "runtime                  46214 non-null float64\n",
            "spoken_languages         46478 non-null object\n",
            "status                   46396 non-null object\n",
            "tagline                  20726 non-null object\n",
            "title                    46478 non-null object\n",
            "video                    46478 non-null object\n",
            "vote_average             46478 non-null float64\n",
            "vote_count               46478 non-null float64\n",
            "keywords                 46478 non-null object\n",
            "stopwords                46478 non-null int64\n",
            "numerics                 46478 non-null int64\n",
            "ovrview                  46478 non-null object\n",
            "dtypes: bool(2), datetime64[ns](1), float64(5), int64(3), object(17)\n",
            "memory usage: 10.9+ MB\n"
          ],
          "name": "stdout"
        }
      ]
    },
    {
      "cell_type": "code",
      "metadata": {
        "id": "fqBmh0jnt4hU",
        "colab_type": "code",
        "colab": {}
      },
      "source": [
        "keyword['id']=keyword['id'].astype(object)"
      ],
      "execution_count": 0,
      "outputs": []
    },
    {
      "cell_type": "code",
      "metadata": {
        "id": "qXYNmocEptFs",
        "colab_type": "code",
        "colab": {}
      },
      "source": [
        "metadata= metadata.merge(keyword, on='id')"
      ],
      "execution_count": 0,
      "outputs": []
    },
    {
      "cell_type": "code",
      "metadata": {
        "id": "cP7He4T0wR30",
        "colab_type": "code",
        "colab": {}
      },
      "source": [
        "metadata= metadata.merge(credits, on='id')"
      ],
      "execution_count": 0,
      "outputs": []
    },
    {
      "cell_type": "code",
      "metadata": {
        "id": "i28j_yi8oOJI",
        "colab_type": "code",
        "colab": {
          "base_uri": "https://localhost:8080/",
          "height": 490
        },
        "outputId": "526e1104-2225-449e-ebcd-0a64158cf796"
      },
      "source": [
        "metadata.head(4)"
      ],
      "execution_count": 101,
      "outputs": [
        {
          "output_type": "execute_result",
          "data": {
            "text/html": [
              "<div>\n",
              "<style scoped>\n",
              "    .dataframe tbody tr th:only-of-type {\n",
              "        vertical-align: middle;\n",
              "    }\n",
              "\n",
              "    .dataframe tbody tr th {\n",
              "        vertical-align: top;\n",
              "    }\n",
              "\n",
              "    .dataframe thead th {\n",
              "        text-align: right;\n",
              "    }\n",
              "</style>\n",
              "<table border=\"1\" class=\"dataframe\">\n",
              "  <thead>\n",
              "    <tr style=\"text-align: right;\">\n",
              "      <th></th>\n",
              "      <th>adult</th>\n",
              "      <th>belongs_to_collection</th>\n",
              "      <th>budget</th>\n",
              "      <th>genres</th>\n",
              "      <th>homepage</th>\n",
              "      <th>id</th>\n",
              "      <th>imdb_id</th>\n",
              "      <th>original_language</th>\n",
              "      <th>original_title</th>\n",
              "      <th>overview</th>\n",
              "      <th>popularity</th>\n",
              "      <th>poster_path</th>\n",
              "      <th>production_companies</th>\n",
              "      <th>production_countries</th>\n",
              "      <th>release_date</th>\n",
              "      <th>revenue</th>\n",
              "      <th>runtime</th>\n",
              "      <th>spoken_languages</th>\n",
              "      <th>status</th>\n",
              "      <th>tagline</th>\n",
              "      <th>title</th>\n",
              "      <th>video</th>\n",
              "      <th>vote_average</th>\n",
              "      <th>vote_count</th>\n",
              "      <th>keywords_x</th>\n",
              "      <th>stopwords</th>\n",
              "      <th>numerics</th>\n",
              "      <th>ovrview</th>\n",
              "      <th>keywords_y</th>\n",
              "      <th>cast_x</th>\n",
              "      <th>crew_x</th>\n",
              "      <th>cast_y</th>\n",
              "      <th>crew_y</th>\n",
              "    </tr>\n",
              "  </thead>\n",
              "  <tbody>\n",
              "    <tr>\n",
              "      <th>0</th>\n",
              "      <td>False</td>\n",
              "      <td>True</td>\n",
              "      <td>30000000.0</td>\n",
              "      <td>[{'id': 16, 'name': 'Animation'}, {'...</td>\n",
              "      <td>http://toystory.disney.com/toy-story</td>\n",
              "      <td>862</td>\n",
              "      <td>tt0114709</td>\n",
              "      <td>en</td>\n",
              "      <td>Toy Story</td>\n",
              "      <td>led woody andys toys live happily ro...</td>\n",
              "      <td>21.9469</td>\n",
              "      <td>/rhIRbceoE9lR4veEXuwCC2wARtG.jpg</td>\n",
              "      <td>[Pixar Animation Studios]</td>\n",
              "      <td>[United States of America]</td>\n",
              "      <td>1995-10-30</td>\n",
              "      <td>373554033.0</td>\n",
              "      <td>81.0</td>\n",
              "      <td>[English]</td>\n",
              "      <td>Released</td>\n",
              "      <td>NaN</td>\n",
              "      <td>Toy Story</td>\n",
              "      <td>False</td>\n",
              "      <td>7.7</td>\n",
              "      <td>5415.0</td>\n",
              "      <td>id 931 name jealousy id 4290 name to...</td>\n",
              "      <td>16</td>\n",
              "      <td>0</td>\n",
              "      <td>led woody andys toy live happily roo...</td>\n",
              "      <td>[{'id': 931, 'name': 'jealousy'}, {'...</td>\n",
              "      <td>[{'cast_id': 14, 'character': 'Woody...</td>\n",
              "      <td>[{'credit_id': '52fe4284c3a36847f802...</td>\n",
              "      <td>[{'cast_id': 14, 'character': 'Woody...</td>\n",
              "      <td>[{'credit_id': '52fe4284c3a36847f802...</td>\n",
              "    </tr>\n",
              "    <tr>\n",
              "      <th>1</th>\n",
              "      <td>False</td>\n",
              "      <td>False</td>\n",
              "      <td>65000000.0</td>\n",
              "      <td>[{'id': 12, 'name': 'Adventure'}, {'...</td>\n",
              "      <td>NaN</td>\n",
              "      <td>8844</td>\n",
              "      <td>tt0113497</td>\n",
              "      <td>en</td>\n",
              "      <td>Jumanji</td>\n",
              "      <td>when siblings judy peter discover en...</td>\n",
              "      <td>17.0155</td>\n",
              "      <td>/vzmL6fP7aPKNKPRTFnZmiUfciyV.jpg</td>\n",
              "      <td>[TriStar Pictures, Teitler Film, Int...</td>\n",
              "      <td>[United States of America]</td>\n",
              "      <td>1995-12-15</td>\n",
              "      <td>262797249.0</td>\n",
              "      <td>104.0</td>\n",
              "      <td>[English, Français]</td>\n",
              "      <td>Released</td>\n",
              "      <td>Roll the dice and unleash the excite...</td>\n",
              "      <td>Jumanji</td>\n",
              "      <td>False</td>\n",
              "      <td>6.9</td>\n",
              "      <td>2413.0</td>\n",
              "      <td>id 10090 name board game id 10941 na...</td>\n",
              "      <td>25</td>\n",
              "      <td>1</td>\n",
              "      <td>when sibling judy peter discover enc...</td>\n",
              "      <td>[{'id': 10090, 'name': 'board game'}...</td>\n",
              "      <td>[{'cast_id': 1, 'character': 'Alan P...</td>\n",
              "      <td>[{'credit_id': '52fe44bfc3a36847f80a...</td>\n",
              "      <td>[{'cast_id': 1, 'character': 'Alan P...</td>\n",
              "      <td>[{'credit_id': '52fe44bfc3a36847f80a...</td>\n",
              "    </tr>\n",
              "    <tr>\n",
              "      <th>2</th>\n",
              "      <td>False</td>\n",
              "      <td>True</td>\n",
              "      <td>NaN</td>\n",
              "      <td>[{'id': 10749, 'name': 'Romance'}, {...</td>\n",
              "      <td>NaN</td>\n",
              "      <td>15602</td>\n",
              "      <td>tt0113228</td>\n",
              "      <td>en</td>\n",
              "      <td>Grumpier Old Men</td>\n",
              "      <td>family wedding reignites ancient feu...</td>\n",
              "      <td>11.7129</td>\n",
              "      <td>/6ksm1sjKMFLbO7UY2i6G1ju9SML.jpg</td>\n",
              "      <td>[Warner Bros., Lancaster Gate]</td>\n",
              "      <td>[United States of America]</td>\n",
              "      <td>1995-12-22</td>\n",
              "      <td>NaN</td>\n",
              "      <td>101.0</td>\n",
              "      <td>[English]</td>\n",
              "      <td>Released</td>\n",
              "      <td>Still Yelling. Still Fighting. Still...</td>\n",
              "      <td>Grumpier Old Men</td>\n",
              "      <td>False</td>\n",
              "      <td>6.5</td>\n",
              "      <td>92.0</td>\n",
              "      <td>id 1495 name fishing id 12392 name b...</td>\n",
              "      <td>20</td>\n",
              "      <td>0</td>\n",
              "      <td>family wedding reignites ancient feu...</td>\n",
              "      <td>[{'id': 1495, 'name': 'fishing'}, {'...</td>\n",
              "      <td>[{'cast_id': 2, 'character': 'Max Go...</td>\n",
              "      <td>[{'credit_id': '52fe466a9251416c7507...</td>\n",
              "      <td>[{'cast_id': 2, 'character': 'Max Go...</td>\n",
              "      <td>[{'credit_id': '52fe466a9251416c7507...</td>\n",
              "    </tr>\n",
              "    <tr>\n",
              "      <th>3</th>\n",
              "      <td>False</td>\n",
              "      <td>False</td>\n",
              "      <td>16000000.0</td>\n",
              "      <td>[{'id': 35, 'name': 'Comedy'}, {'id'...</td>\n",
              "      <td>NaN</td>\n",
              "      <td>31357</td>\n",
              "      <td>tt0114885</td>\n",
              "      <td>en</td>\n",
              "      <td>Waiting to Exhale</td>\n",
              "      <td>cheated mistreated stepped women are...</td>\n",
              "      <td>3.85949</td>\n",
              "      <td>/16XOMpEaLWkrcPqSQqhTmeJuqQl.jpg</td>\n",
              "      <td>[Twentieth Century Fox Film Corporat...</td>\n",
              "      <td>[United States of America]</td>\n",
              "      <td>1995-12-22</td>\n",
              "      <td>81452156.0</td>\n",
              "      <td>127.0</td>\n",
              "      <td>[English]</td>\n",
              "      <td>Released</td>\n",
              "      <td>Friends are the people who let you b...</td>\n",
              "      <td>Waiting to Exhale</td>\n",
              "      <td>False</td>\n",
              "      <td>6.1</td>\n",
              "      <td>34.0</td>\n",
              "      <td>id 818 name based on novel id 10131 ...</td>\n",
              "      <td>16</td>\n",
              "      <td>0</td>\n",
              "      <td>cheated mistreated stepped woman are...</td>\n",
              "      <td>[{'id': 818, 'name': 'based on novel...</td>\n",
              "      <td>[{'cast_id': 1, 'character': 'Savann...</td>\n",
              "      <td>[{'credit_id': '52fe44779251416c9101...</td>\n",
              "      <td>[{'cast_id': 1, 'character': \"Savann...</td>\n",
              "      <td>[{'credit_id': '52fe44779251416c9101...</td>\n",
              "    </tr>\n",
              "  </tbody>\n",
              "</table>\n",
              "</div>"
            ],
            "text/plain": [
              "   adult  ...                                   crew_y\n",
              "0  False  ...  [{'credit_id': '52fe4284c3a36847f802...\n",
              "1  False  ...  [{'credit_id': '52fe44bfc3a36847f80a...\n",
              "2  False  ...  [{'credit_id': '52fe466a9251416c7507...\n",
              "3  False  ...  [{'credit_id': '52fe44779251416c9101...\n",
              "\n",
              "[4 rows x 33 columns]"
            ]
          },
          "metadata": {
            "tags": []
          },
          "execution_count": 101
        }
      ]
    }
  ]
}